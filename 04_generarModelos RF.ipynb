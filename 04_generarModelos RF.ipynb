{
  "cells": [
    {
      "cell_type": "markdown",
      "metadata": {
        "id": "kstgk2Ow9mme"
      },
      "source": [
        "\n",
        "\n",
        "### Generación de Modelos Predictivos\n",
        "\n",
        "Este notebook se encarga de generar modelos predictivos.  Se puede correr en Google Colab o en el iMac.\n",
        "\n",
        "Para usarlo en Google Colab, usar tipo_a_usar='GPU'\n",
        "Para usarlo en el imac, usar tipo_a_usar='CPU'\n",
        "\n"
      ]
    },
    {
      "cell_type": "code",
      "execution_count": 2,
      "metadata": {
        "id": "Z4cDU5C_93sB"
      },
      "outputs": [],
      "source": [
        "tipo_a_usar='CPU'"
      ]
    },
    {
      "cell_type": "code",
      "execution_count": 3,
      "metadata": {
        "id": "VvG4qBj15JbK"
      },
      "outputs": [],
      "source": [
        "import pandas as pd"
      ]
    },
    {
      "cell_type": "code",
      "execution_count": 4,
      "metadata": {
        "colab": {
          "base_uri": "https://localhost:8080/"
        },
        "id": "1-ZRjd8R5ycg",
        "outputId": "60a4e1d6-7261-4d0f-c60e-f00968f47a9a"
      },
      "outputs": [],
      "source": [
        "if tipo_a_usar =='GPU':\n",
        "  from google.colab import drive\n",
        "  drive.mount('/content/drive')"
      ]
    },
    {
      "cell_type": "markdown",
      "metadata": {
        "id": "VS7BpOnV-fR1"
      },
      "source": [
        "Los datos de origen es el mismo sea desde Google Colab o desde el iMac.  La diferencia es que el primero usar referencia a Google Drive y el otro acceso directo desde el sistema operativo"
      ]
    },
    {
      "cell_type": "code",
      "execution_count": 5,
      "metadata": {
        "id": "G9ljov6i5Vza"
      },
      "outputs": [],
      "source": [
        "if tipo_a_usar =='GPU':\n",
        "  dfbase = pd.read_pickle('/content/drive/MyDrive//Innovaciones Tecnológicas Aplicadas/Universidad Autónoma de Occidente/GoogleColab/checkPoints/DATOS_LIMPIOS.pkl')\n",
        "\n",
        "if tipo_a_usar == 'CPU':\n",
        "  dfbase = pd.read_pickle('checkpoints/DATOS_LIMPIOS.pkl')\n"
      ]
    },
    {
      "cell_type": "code",
      "execution_count": 6,
      "metadata": {},
      "outputs": [],
      "source": [
        "df = dfbase.copy()\n",
        "df = df[df['LABEL']!=-1]\n",
        "\n",
        "X = df.drop('LABEL', axis=1)  # Reemplaza 'target_column' con el nombre de tu columna objetivo\n",
        "y = df['LABEL']  # Reemplaza 'target_column' con el nombre de tu columna objetivo"
      ]
    },
    {
      "cell_type": "code",
      "execution_count": 7,
      "metadata": {},
      "outputs": [
        {
          "name": "stderr",
          "output_type": "stream",
          "text": [
            "/Users/jaimereinoso/DESARROLLO/MCD/proyectodegrado2/venv/lib/python3.11/site-packages/joblib/externals/loky/process_executor.py:752: UserWarning: A worker stopped while some jobs were given to the executor. This can be caused by a too short worker timeout or by a memory leak.\n",
            "  warnings.warn(\n",
            "/Users/jaimereinoso/DESARROLLO/MCD/proyectodegrado2/venv/lib/python3.11/site-packages/sklearn/model_selection/_validation.py:425: FitFailedWarning: \n",
            "540 fits failed out of a total of 1620.\n",
            "The score on these train-test partitions for these parameters will be set to nan.\n",
            "If these failures are not expected, you can try to debug them by setting error_score='raise'.\n",
            "\n",
            "Below are more details about the failures:\n",
            "--------------------------------------------------------------------------------\n",
            "259 fits failed with the following error:\n",
            "Traceback (most recent call last):\n",
            "  File \"/Users/jaimereinoso/DESARROLLO/MCD/proyectodegrado2/venv/lib/python3.11/site-packages/sklearn/model_selection/_validation.py\", line 729, in _fit_and_score\n",
            "    estimator.fit(X_train, y_train, **fit_params)\n",
            "  File \"/Users/jaimereinoso/DESARROLLO/MCD/proyectodegrado2/venv/lib/python3.11/site-packages/sklearn/base.py\", line 1145, in wrapper\n",
            "    estimator._validate_params()\n",
            "  File \"/Users/jaimereinoso/DESARROLLO/MCD/proyectodegrado2/venv/lib/python3.11/site-packages/sklearn/base.py\", line 638, in _validate_params\n",
            "    validate_parameter_constraints(\n",
            "  File \"/Users/jaimereinoso/DESARROLLO/MCD/proyectodegrado2/venv/lib/python3.11/site-packages/sklearn/utils/_param_validation.py\", line 96, in validate_parameter_constraints\n",
            "    raise InvalidParameterError(\n",
            "sklearn.utils._param_validation.InvalidParameterError: The 'max_features' parameter of RandomForestClassifier must be an int in the range [1, inf), a float in the range (0.0, 1.0], a str among {'sqrt', 'log2'} or None. Got 'auto' instead.\n",
            "\n",
            "--------------------------------------------------------------------------------\n",
            "281 fits failed with the following error:\n",
            "Traceback (most recent call last):\n",
            "  File \"/Users/jaimereinoso/DESARROLLO/MCD/proyectodegrado2/venv/lib/python3.11/site-packages/sklearn/model_selection/_validation.py\", line 729, in _fit_and_score\n",
            "    estimator.fit(X_train, y_train, **fit_params)\n",
            "  File \"/Users/jaimereinoso/DESARROLLO/MCD/proyectodegrado2/venv/lib/python3.11/site-packages/sklearn/base.py\", line 1145, in wrapper\n",
            "    estimator._validate_params()\n",
            "  File \"/Users/jaimereinoso/DESARROLLO/MCD/proyectodegrado2/venv/lib/python3.11/site-packages/sklearn/base.py\", line 638, in _validate_params\n",
            "    validate_parameter_constraints(\n",
            "  File \"/Users/jaimereinoso/DESARROLLO/MCD/proyectodegrado2/venv/lib/python3.11/site-packages/sklearn/utils/_param_validation.py\", line 96, in validate_parameter_constraints\n",
            "    raise InvalidParameterError(\n",
            "sklearn.utils._param_validation.InvalidParameterError: The 'max_features' parameter of RandomForestClassifier must be an int in the range [1, inf), a float in the range (0.0, 1.0], a str among {'log2', 'sqrt'} or None. Got 'auto' instead.\n",
            "\n",
            "  warnings.warn(some_fits_failed_message, FitFailedWarning)\n",
            "/Users/jaimereinoso/DESARROLLO/MCD/proyectodegrado2/venv/lib/python3.11/site-packages/sklearn/model_selection/_search.py:979: UserWarning: One or more of the test scores are non-finite: [       nan        nan        nan        nan        nan        nan\n",
            "        nan        nan        nan        nan        nan        nan\n",
            "        nan        nan        nan        nan        nan        nan\n",
            "        nan        nan        nan        nan        nan        nan\n",
            "        nan        nan        nan 0.93415584 0.93428571 0.93571429\n",
            " 0.9274026  0.93103896 0.93       0.91727273 0.9212987  0.92571429\n",
            " 0.9161039  0.92155844 0.92337662 0.91688312 0.92090909 0.92090909\n",
            " 0.90688312 0.90961039 0.91038961 0.88298701 0.8887013  0.8938961\n",
            " 0.88298701 0.8887013  0.8938961  0.88493506 0.88805195 0.8925974\n",
            " 0.9361039  0.93311688 0.93623377 0.92883117 0.92909091 0.93207792\n",
            " 0.9174026  0.91909091 0.9238961  0.86584416 0.86844156 0.87415584\n",
            " 0.86194805 0.86363636 0.8674026  0.85402597 0.85896104 0.86350649\n",
            " 0.8138961  0.81623377 0.81987013 0.8138961  0.81623377 0.81987013\n",
            " 0.81623377 0.82012987 0.82077922        nan        nan        nan\n",
            "        nan        nan        nan        nan        nan        nan\n",
            "        nan        nan        nan        nan        nan        nan\n",
            "        nan        nan        nan        nan        nan        nan\n",
            "        nan        nan        nan        nan        nan        nan\n",
            " 0.85025974 0.85051948 0.85350649 0.84818182 0.85142857 0.8525974\n",
            " 0.84233766 0.84701299 0.84844156 0.84272727 0.84688312 0.84753247\n",
            " 0.84025974 0.84545455 0.84662338 0.84077922 0.84363636 0.84402597\n",
            " 0.83753247 0.83922078 0.84077922 0.83753247 0.83922078 0.84077922\n",
            " 0.8325974  0.83558442 0.83935065 0.80493506 0.81298701 0.81532468\n",
            " 0.80181818 0.80792208 0.80844156 0.79636364 0.80207792 0.8038961\n",
            " 0.79376623 0.79714286 0.79792208 0.79532468 0.79688312 0.79922078\n",
            " 0.78922078 0.79181818 0.79337662 0.78597403 0.78571429 0.78844156\n",
            " 0.78597403 0.78571429 0.78844156 0.78285714 0.78636364 0.78649351\n",
            "        nan        nan        nan        nan        nan        nan\n",
            "        nan        nan        nan        nan        nan        nan\n",
            "        nan        nan        nan        nan        nan        nan\n",
            "        nan        nan        nan        nan        nan        nan\n",
            "        nan        nan        nan 0.92571429 0.92922078 0.93220779\n",
            " 0.92415584 0.92597403 0.92649351 0.91038961 0.91597403 0.91662338\n",
            " 0.90701299 0.91207792 0.91311688 0.91298701 0.91532468 0.91636364\n",
            " 0.89766234 0.90012987 0.90467532 0.88324675 0.88649351 0.88831169\n",
            " 0.88324675 0.88649351 0.88831169 0.88064935 0.88675325 0.88805195\n",
            " 0.89506494 0.90350649 0.9074026  0.88753247 0.89207792 0.89324675\n",
            " 0.87337662 0.87857143 0.87961039 0.84350649 0.84857143 0.84831169\n",
            " 0.84207792 0.8438961  0.84597403 0.83597403 0.84337662 0.84428571\n",
            " 0.80779221 0.81051948 0.81558442 0.80779221 0.81051948 0.81558442\n",
            " 0.80649351 0.81155844 0.81363636        nan        nan        nan\n",
            "        nan        nan        nan        nan        nan        nan\n",
            "        nan        nan        nan        nan        nan        nan\n",
            "        nan        nan        nan        nan        nan        nan\n",
            "        nan        nan        nan        nan        nan        nan\n",
            " 0.93012987 0.93532468 0.93493506 0.92519481 0.92909091 0.93116883\n",
            " 0.91935065 0.9212987  0.92532468 0.91441558 0.91935065 0.92181818\n",
            " 0.91402597 0.91792208 0.91922078 0.90519481 0.90909091 0.91077922\n",
            " 0.88402597 0.88922078 0.89324675 0.88402597 0.88922078 0.89324675\n",
            " 0.88532468 0.88896104 0.89220779 0.9274026  0.92974026 0.93051948\n",
            " 0.91766234 0.92272727 0.92571429 0.90428571 0.90753247 0.91233766\n",
            " 0.86116883 0.86454545 0.86844156 0.86       0.86337662 0.86597403\n",
            " 0.85064935 0.85792208 0.85753247 0.81519481 0.81649351 0.82012987\n",
            " 0.81519481 0.81649351 0.82012987 0.81441558 0.81961039 0.82012987]\n",
            "  warnings.warn(\n"
          ]
        },
        {
          "name": "stdout",
          "output_type": "stream",
          "text": [
            "Mejores hiperparámetros encontrados:\n",
            "{'param_n_estimators': 200, 'param_max_depth': None, 'param_min_samples_split': 2, 'param_min_samples_leaf': 1, 'param_max_features': 'log2'}\n",
            "Precisión (Accuracy) en prueba: 0.9327286470143613\n",
            "ROC-AUC en prueba: 0.9099763441488274\n"
          ]
        }
      ],
      "source": [
        "import pandas as pd\n",
        "from sklearn.ensemble import RandomForestClassifier\n",
        "from sklearn.model_selection import GridSearchCV, train_test_split\n",
        "from sklearn.metrics import make_scorer, accuracy_score, roc_auc_score\n",
        "\n",
        "# Dividir los datos en conjuntos de entrenamiento (train) y prueba (test)\n",
        "X_train, X_test, y_train, y_test = train_test_split(X, y, test_size=0.2, random_state=42)\n",
        "\n",
        "# BALANCAMOS X_train y y_train\n",
        "#!pip install imbalanced-learn\n",
        "from imblearn.over_sampling import SMOTE\n",
        "smote = SMOTE(sampling_strategy='auto')\n",
        "X_train, y_train = smote.fit_resample(X_train, y_train)\n",
        "\n",
        "# Definir los hiperparámetros a ajustar y sus posibles valores\n",
        "param_grid = {\n",
        "    'n_estimators': [50, 100, 200],\n",
        "    'max_depth': [None, 10, 20, 30],\n",
        "    'min_samples_split': [2, 5, 10],\n",
        "    'min_samples_leaf': [1, 2, 4],\n",
        "    'max_features': ['auto', 'sqrt', 'log2'],\n",
        "}\n",
        "\n",
        "# Crear el modelo de Random Forest\n",
        "modelo_rf = RandomForestClassifier(random_state=42)\n",
        "\n",
        "# Definir las métricas que deseas evaluar durante la búsqueda en cuadrícula\n",
        "scoring = {\n",
        "    'accuracy': make_scorer(accuracy_score),\n",
        "    'roc_auc': make_scorer(roc_auc_score)\n",
        "}\n",
        "\n",
        "# Realizar la búsqueda en cuadrícula con validación cruzada en el conjunto de entrenamiento\n",
        "grid_search = GridSearchCV(estimator=modelo_rf, param_grid=param_grid, cv=5, scoring=scoring, n_jobs=-1, refit='roc_auc')\n",
        "grid_search.fit(X_train, y_train)\n",
        "\n",
        "# Obtener el DataFrame de resultados de la búsqueda en cuadrícula\n",
        "resultados_df = pd.DataFrame(grid_search.cv_results_)\n",
        "\n",
        "# Encontrar la fila con el mejor resultado de ROC-AUC\n",
        "mejor_roc_auc_idx = resultados_df['mean_test_roc_auc'].idxmax()\n",
        "\n",
        "# Extraer los hiperparámetros correspondientes al mejor resultado\n",
        "mejores_hiperparametros = resultados_df.loc[mejor_roc_auc_idx, ['param_n_estimators', 'param_max_depth',\n",
        "                                                              'param_min_samples_split', 'param_min_samples_leaf',\n",
        "                                                              'param_max_features']]\n",
        "\n",
        "# Mostrar los mejores hiperparámetros\n",
        "print(\"Mejores hiperparámetros encontrados:\")\n",
        "print(mejores_hiperparametros.to_dict())\n",
        "\n",
        "# Obtener el modelo con los mejores hiperparámetros\n",
        "mejor_modelo_rf = grid_search.best_estimator_\n",
        "\n",
        "# Evaluar el modelo en el conjunto de prueba\n",
        "y_pred = mejor_modelo_rf.predict(X_test)\n",
        "accuracy_test = accuracy_score(y_test, y_pred)\n",
        "roc_auc_test = roc_auc_score(y_test, y_pred)\n",
        "\n",
        "# Mostrar los resultados en el conjunto de prueba\n",
        "print(\"Precisión (Accuracy) en prueba:\", accuracy_test)\n",
        "print(\"ROC-AUC en prueba:\", roc_auc_test)\n"
      ]
    },
    {
      "cell_type": "code",
      "execution_count": 8,
      "metadata": {},
      "outputs": [
        {
          "data": {
            "text/plain": [
              "param_n_estimators          200\n",
              "param_max_depth            None\n",
              "param_min_samples_split       2\n",
              "param_min_samples_leaf        1\n",
              "param_max_features         log2\n",
              "Name: 56, dtype: object"
            ]
          },
          "execution_count": 8,
          "metadata": {},
          "output_type": "execute_result"
        }
      ],
      "source": [
        "mejores_hiperparametros.head()"
      ]
    },
    {
      "cell_type": "code",
      "execution_count": 9,
      "metadata": {},
      "outputs": [],
      "source": [
        "resultados_df.to_excel('RF Resultados balanceado.xlsx')"
      ]
    },
    {
      "cell_type": "code",
      "execution_count": null,
      "metadata": {},
      "outputs": [],
      "source": []
    }
  ],
  "metadata": {
    "accelerator": "GPU",
    "colab": {
      "provenance": []
    },
    "kernelspec": {
      "display_name": "Python 3",
      "name": "python3"
    },
    "language_info": {
      "codemirror_mode": {
        "name": "ipython",
        "version": 3
      },
      "file_extension": ".py",
      "mimetype": "text/x-python",
      "name": "python",
      "nbconvert_exporter": "python",
      "pygments_lexer": "ipython3",
      "version": "3.11.5"
    }
  },
  "nbformat": 4,
  "nbformat_minor": 0
}
