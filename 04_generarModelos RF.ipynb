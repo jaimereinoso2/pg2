{
  "cells": [
    {
      "cell_type": "markdown",
      "metadata": {
        "id": "kstgk2Ow9mme"
      },
      "source": [
        "\n",
        "\n",
        "### Generación de Modelos Predictivos\n",
        "\n",
        "Este notebook se encarga de generar modelos predictivos.  Se puede correr en Google Colab o en el iMac.\n",
        "\n",
        "Para usarlo en Google Colab, usar tipo_a_usar='GPU'\n",
        "Para usarlo en el imac, usar tipo_a_usar='CPU'\n",
        "\n"
      ]
    },
    {
      "cell_type": "code",
      "execution_count": 2,
      "metadata": {
        "id": "Z4cDU5C_93sB"
      },
      "outputs": [],
      "source": [
        "tipo_a_usar='CPU'"
      ]
    },
    {
      "cell_type": "code",
      "execution_count": 3,
      "metadata": {
        "id": "VvG4qBj15JbK"
      },
      "outputs": [],
      "source": [
        "import pandas as pd"
      ]
    },
    {
      "cell_type": "code",
      "execution_count": 4,
      "metadata": {
        "colab": {
          "base_uri": "https://localhost:8080/"
        },
        "id": "1-ZRjd8R5ycg",
        "outputId": "60a4e1d6-7261-4d0f-c60e-f00968f47a9a"
      },
      "outputs": [],
      "source": [
        "if tipo_a_usar =='GPU':\n",
        "  from google.colab import drive\n",
        "  drive.mount('/content/drive')"
      ]
    },
    {
      "cell_type": "markdown",
      "metadata": {
        "id": "VS7BpOnV-fR1"
      },
      "source": [
        "Los datos de origen es el mismo sea desde Google Colab o desde el iMac.  La diferencia es que el primero usar referencia a Google Drive y el otro acceso directo desde el sistema operativo"
      ]
    },
    {
      "cell_type": "code",
      "execution_count": 5,
      "metadata": {
        "id": "G9ljov6i5Vza"
      },
      "outputs": [],
      "source": [
        "if tipo_a_usar =='GPU':\n",
        "  dfbase = pd.read_pickle('/content/drive/MyDrive//Innovaciones Tecnológicas Aplicadas/Universidad Autónoma de Occidente/GoogleColab/checkPoints/DATOS_LIMPIOS.pkl')\n",
        "\n",
        "if tipo_a_usar == 'CPU':\n",
        "  dfbase = pd.read_pickle('checkpoints/DATOS_LIMPIOS.pkl')\n"
      ]
    },
    {
      "cell_type": "code",
      "execution_count": 6,
      "metadata": {},
      "outputs": [],
      "source": [
        "df = dfbase.copy()\n",
        "df = df[df['LABEL']!=-1]\n",
        "\n",
        "X = df.drop('LABEL', axis=1)  # Reemplaza 'target_column' con el nombre de tu columna objetivo\n",
        "y = df['LABEL']  # Reemplaza 'target_column' con el nombre de tu columna objetivo"
      ]
    },
    {
      "cell_type": "code",
      "execution_count": 7,
      "metadata": {},
      "outputs": [],
      "source": [
        "import pandas as pd\n",
        "from sklearn.ensemble import RandomForestClassifier\n",
        "from sklearn.model_selection import GridSearchCV, train_test_split\n",
        "from sklearn.metrics import make_scorer, accuracy_score, roc_auc_score\n",
        "\n",
        "# Dividir los datos en conjuntos de entrenamiento (train) y prueba (test)\n",
        "X_train, X_test, y_train, y_test = train_test_split(X, y, test_size=0.2, random_state=42)\n",
        "\n",
        "# BALANCAMOS X_train y y_train\n",
        "#!pip install imbalanced-learn\n",
        "from imblearn.over_sampling import SMOTE\n",
        "smote = SMOTE(sampling_strategy='auto')\n",
        "X_train, y_train = smote.fit_resample(X_train, y_train)\n",
        "\n",
        "# Definir los hiperparámetros a ajustar y sus posibles valores\n",
        "param_grid = {\n",
        "    'n_estimators': [50, 100, 200],\n",
        "    'max_depth': [None, 10, 20, 30],\n",
        "    'min_samples_split': [2, 5, 10],\n",
        "    'min_samples_leaf': [1, 2, 4],\n",
        "    'max_features': ['auto', 'sqrt', 'log2'],\n",
        "}\n",
        "\n",
        "# Crear el modelo de Random Forest\n",
        "modelo_rf = RandomForestClassifier(random_state=42)\n",
        "\n",
        "# Definir las métricas que deseas evaluar durante la búsqueda en cuadrícula\n",
        "scoring = {\n",
        "    'accuracy': make_scorer(accuracy_score),\n",
        "    'roc_auc': make_scorer(roc_auc_score)\n",
        "}\n",
        "\n",
        "# Realizar la búsqueda en cuadrícula con validación cruzada en el conjunto de entrenamiento\n",
        "grid_search = GridSearchCV(estimator=modelo_rf, param_grid=param_grid, cv=5, scoring=scoring, n_jobs=-1, refit='roc_auc')\n",
        "grid_search.fit(X_train, y_train)\n",
        "\n",
        "# Obtener el DataFrame de resultados de la búsqueda en cuadrícula\n",
        "resultados_df = pd.DataFrame(grid_search.cv_results_)\n",
        "\n",
        "# Encontrar la fila con el mejor resultado de ROC-AUC\n",
        "mejor_roc_auc_idx = resultados_df['mean_test_roc_auc'].idxmax()\n",
        "\n",
        "# Extraer los hiperparámetros correspondientes al mejor resultado\n",
        "mejores_hiperparametros = resultados_df.loc[mejor_roc_auc_idx, ['param_n_estimators', 'param_max_depth',\n",
        "                                                              'param_min_samples_split', 'param_min_samples_leaf',\n",
        "                                                              'param_max_features']]\n",
        "\n",
        "# Mostrar los mejores hiperparámetros\n",
        "print(\"Mejores hiperparámetros encontrados:\")\n",
        "print(mejores_hiperparametros.to_dict())\n",
        "\n",
        "# Obtener el modelo con los mejores hiperparámetros\n",
        "mejor_modelo_rf = grid_search.best_estimator_\n",
        "\n",
        "# Evaluar el modelo en el conjunto de prueba\n",
        "y_pred = mejor_modelo_rf.predict(X_test)\n",
        "accuracy_test = accuracy_score(y_test, y_pred)\n",
        "roc_auc_test = roc_auc_score(y_test, y_pred)\n",
        "\n",
        "# Mostrar los resultados en el conjunto de prueba\n",
        "print(\"Precisión (Accuracy) en prueba:\", accuracy_test)\n",
        "print(\"ROC-AUC en prueba:\", roc_auc_test)\n"
      ]
    },
    {
      "cell_type": "code",
      "execution_count": 9,
      "metadata": {},
      "outputs": [
        {
          "data": {
            "text/plain": [
              "param_n_estimators          200\n",
              "param_max_depth            None\n",
              "param_min_samples_split       2\n",
              "param_min_samples_leaf        1\n",
              "param_max_features         sqrt\n",
              "Name: 29, dtype: object"
            ]
          },
          "execution_count": 9,
          "metadata": {},
          "output_type": "execute_result"
        }
      ],
      "source": [
        "mejores_hiperparametros.head()"
      ]
    },
    {
      "cell_type": "code",
      "execution_count": 12,
      "metadata": {},
      "outputs": [],
      "source": [
        "resultados_df.to_excel('RF Resultados.xlsx')"
      ]
    },
    {
      "cell_type": "code",
      "execution_count": null,
      "metadata": {},
      "outputs": [],
      "source": []
    }
  ],
  "metadata": {
    "accelerator": "GPU",
    "colab": {
      "provenance": []
    },
    "kernelspec": {
      "display_name": "Python 3",
      "name": "python3"
    },
    "language_info": {
      "codemirror_mode": {
        "name": "ipython",
        "version": 3
      },
      "file_extension": ".py",
      "mimetype": "text/x-python",
      "name": "python",
      "nbconvert_exporter": "python",
      "pygments_lexer": "ipython3",
      "version": "3.11.5"
    }
  },
  "nbformat": 4,
  "nbformat_minor": 0
}
