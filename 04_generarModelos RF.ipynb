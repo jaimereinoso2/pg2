{
  "cells": [
    {
      "cell_type": "markdown",
      "metadata": {
        "id": "kstgk2Ow9mme"
      },
      "source": [
        "\n",
        "\n",
        "### Generación de Modelos Predictivos\n",
        "\n",
        "Este notebook se encarga de generar modelos predictivos.  Se puede correr en Google Colab o en el iMac.\n",
        "\n",
        "Para usarlo en Google Colab, usar tipo_a_usar='GPU'\n",
        "Para usarlo en el imac, usar tipo_a_usar='CPU'\n",
        "\n"
      ]
    },
    {
      "cell_type": "code",
      "execution_count": 1,
      "metadata": {
        "id": "Z4cDU5C_93sB"
      },
      "outputs": [],
      "source": [
        "tipo_a_usar='CPU'"
      ]
    },
    {
      "cell_type": "code",
      "execution_count": 2,
      "metadata": {
        "id": "VvG4qBj15JbK"
      },
      "outputs": [],
      "source": [
        "import pandas as pd"
      ]
    },
    {
      "cell_type": "code",
      "execution_count": 3,
      "metadata": {
        "colab": {
          "base_uri": "https://localhost:8080/"
        },
        "id": "1-ZRjd8R5ycg",
        "outputId": "60a4e1d6-7261-4d0f-c60e-f00968f47a9a"
      },
      "outputs": [],
      "source": [
        "if tipo_a_usar =='GPU':\n",
        "  from google.colab import drive\n",
        "  drive.mount('/content/drive')"
      ]
    },
    {
      "cell_type": "markdown",
      "metadata": {
        "id": "VS7BpOnV-fR1"
      },
      "source": [
        "Los datos de origen es el mismo sea desde Google Colab o desde el iMac.  La diferencia es que el primero usar referencia a Google Drive y el otro acceso directo desde el sistema operativo"
      ]
    },
    {
      "cell_type": "code",
      "execution_count": 4,
      "metadata": {
        "id": "G9ljov6i5Vza"
      },
      "outputs": [],
      "source": [
        "if tipo_a_usar =='GPU':\n",
        "  dfbase = pd.read_pickle('/content/drive/MyDrive//Innovaciones Tecnológicas Aplicadas/Universidad Autónoma de Occidente/GoogleColab/checkPoints/DATOS_LIMPIOS.pkl')\n",
        "\n",
        "if tipo_a_usar == 'CPU':\n",
        "  dfbase = pd.read_pickle('checkpoints/DATOS_LIMPIOS.pkl')\n"
      ]
    },
    {
      "cell_type": "code",
      "execution_count": 5,
      "metadata": {},
      "outputs": [],
      "source": [
        "df = dfbase.copy()\n",
        "df = df[df['LABEL']!=-1]\n",
        "\n",
        "X = df.drop('LABEL', axis=1)  # Reemplaza 'target_column' con el nombre de tu columna objetivo\n",
        "y = df['LABEL']  # Reemplaza 'target_column' con el nombre de tu columna objetivo"
      ]
    },
    {
      "cell_type": "code",
      "execution_count": 6,
      "metadata": {},
      "outputs": [
        {
          "name": "stderr",
          "output_type": "stream",
          "text": [
            "/Users/jaimereinoso/DESARROLLO/MCD/proyectodegrado2/venv/lib/python3.11/site-packages/joblib/externals/loky/process_executor.py:752: UserWarning: A worker stopped while some jobs were given to the executor. This can be caused by a too short worker timeout or by a memory leak.\n",
            "  warnings.warn(\n",
            "/Users/jaimereinoso/DESARROLLO/MCD/proyectodegrado2/venv/lib/python3.11/site-packages/sklearn/model_selection/_validation.py:425: FitFailedWarning: \n",
            "540 fits failed out of a total of 1620.\n",
            "The score on these train-test partitions for these parameters will be set to nan.\n",
            "If these failures are not expected, you can try to debug them by setting error_score='raise'.\n",
            "\n",
            "Below are more details about the failures:\n",
            "--------------------------------------------------------------------------------\n",
            "431 fits failed with the following error:\n",
            "Traceback (most recent call last):\n",
            "  File \"/Users/jaimereinoso/DESARROLLO/MCD/proyectodegrado2/venv/lib/python3.11/site-packages/sklearn/model_selection/_validation.py\", line 729, in _fit_and_score\n",
            "    estimator.fit(X_train, y_train, **fit_params)\n",
            "  File \"/Users/jaimereinoso/DESARROLLO/MCD/proyectodegrado2/venv/lib/python3.11/site-packages/sklearn/base.py\", line 1145, in wrapper\n",
            "    estimator._validate_params()\n",
            "  File \"/Users/jaimereinoso/DESARROLLO/MCD/proyectodegrado2/venv/lib/python3.11/site-packages/sklearn/base.py\", line 638, in _validate_params\n",
            "    validate_parameter_constraints(\n",
            "  File \"/Users/jaimereinoso/DESARROLLO/MCD/proyectodegrado2/venv/lib/python3.11/site-packages/sklearn/utils/_param_validation.py\", line 96, in validate_parameter_constraints\n",
            "    raise InvalidParameterError(\n",
            "sklearn.utils._param_validation.InvalidParameterError: The 'max_features' parameter of RandomForestClassifier must be an int in the range [1, inf), a float in the range (0.0, 1.0], a str among {'log2', 'sqrt'} or None. Got 'auto' instead.\n",
            "\n",
            "--------------------------------------------------------------------------------\n",
            "109 fits failed with the following error:\n",
            "Traceback (most recent call last):\n",
            "  File \"/Users/jaimereinoso/DESARROLLO/MCD/proyectodegrado2/venv/lib/python3.11/site-packages/sklearn/model_selection/_validation.py\", line 729, in _fit_and_score\n",
            "    estimator.fit(X_train, y_train, **fit_params)\n",
            "  File \"/Users/jaimereinoso/DESARROLLO/MCD/proyectodegrado2/venv/lib/python3.11/site-packages/sklearn/base.py\", line 1145, in wrapper\n",
            "    estimator._validate_params()\n",
            "  File \"/Users/jaimereinoso/DESARROLLO/MCD/proyectodegrado2/venv/lib/python3.11/site-packages/sklearn/base.py\", line 638, in _validate_params\n",
            "    validate_parameter_constraints(\n",
            "  File \"/Users/jaimereinoso/DESARROLLO/MCD/proyectodegrado2/venv/lib/python3.11/site-packages/sklearn/utils/_param_validation.py\", line 96, in validate_parameter_constraints\n",
            "    raise InvalidParameterError(\n",
            "sklearn.utils._param_validation.InvalidParameterError: The 'max_features' parameter of RandomForestClassifier must be an int in the range [1, inf), a float in the range (0.0, 1.0], a str among {'sqrt', 'log2'} or None. Got 'auto' instead.\n",
            "\n",
            "  warnings.warn(some_fits_failed_message, FitFailedWarning)\n",
            "/Users/jaimereinoso/DESARROLLO/MCD/proyectodegrado2/venv/lib/python3.11/site-packages/sklearn/model_selection/_search.py:979: UserWarning: One or more of the test scores are non-finite: [       nan        nan        nan        nan        nan        nan\n",
            "        nan        nan        nan        nan        nan        nan\n",
            "        nan        nan        nan        nan        nan        nan\n",
            "        nan        nan        nan        nan        nan        nan\n",
            "        nan        nan        nan 0.89693769 0.90053116 0.90034087\n",
            " 0.8965598  0.89617994 0.8959909  0.87859405 0.87783755 0.87972952\n",
            " 0.87405487 0.8774593  0.87727009 0.87216451 0.8740554  0.8740563\n",
            " 0.85835845 0.85835916 0.86176342 0.83888095 0.84323056 0.84304278\n",
            " 0.83888095 0.84323056 0.84304278 0.83528784 0.83415416 0.8352898\n",
            " 0.89845123 0.89636897 0.8975039  0.87764744 0.88161898 0.88142959\n",
            " 0.85533423 0.8568458  0.85987091 0.78044632 0.77987975 0.78309515\n",
            " 0.78063714 0.77893439 0.78025925 0.77817878 0.77912521 0.77818057\n",
            " 0.75264802 0.75170338 0.75189259 0.75264802 0.75170338 0.75189259\n",
            " 0.75472867 0.75302735 0.7534056         nan        nan        nan\n",
            "        nan        nan        nan        nan        nan        nan\n",
            "        nan        nan        nan        nan        nan        nan\n",
            "        nan        nan        nan        nan        nan        nan\n",
            "        nan        nan        nan        nan        nan        nan\n",
            " 0.80824783 0.80749062 0.81032615 0.80181721 0.80106071 0.80143807\n",
            " 0.80124939 0.79860181 0.79803363 0.79916785 0.7974676  0.79784388\n",
            " 0.79765628 0.79652081 0.79652117 0.80106143 0.79765628 0.7957652\n",
            " 0.79103662 0.79217191 0.79179437 0.79103662 0.79217191 0.79179437\n",
            " 0.79084741 0.79311584 0.79009144 0.7551071  0.75416138 0.75624203\n",
            " 0.75378278 0.75264767 0.75378313 0.75226941 0.75056809 0.7518917\n",
            " 0.74773166 0.74867737 0.74867755 0.74924466 0.74773184 0.7484887\n",
            " 0.74678684 0.74848798 0.74886677 0.7447069  0.74262554 0.7431939\n",
            " 0.7447069  0.74262554 0.7431939  0.74168054 0.74168036 0.74281601\n",
            "        nan        nan        nan        nan        nan        nan\n",
            "        nan        nan        nan        nan        nan        nan\n",
            "        nan        nan        nan        nan        nan        nan\n",
            "        nan        nan        nan        nan        nan        nan\n",
            "        nan        nan        nan 0.88824007 0.89126536 0.89277693\n",
            " 0.87707998 0.87726991 0.8799173  0.8638421  0.86346403 0.86422035\n",
            " 0.86081949 0.8628971  0.86384371 0.86403238 0.86100763 0.86176395\n",
            " 0.84682278 0.84871332 0.8485259  0.83661341 0.83661323 0.84039556\n",
            " 0.83661341 0.83661323 0.84039556 0.83150497 0.83755967 0.83699274\n",
            " 0.81410884 0.81599848 0.81448566 0.79992614 0.80106089 0.79898096\n",
            " 0.79444195 0.79236184 0.79255105 0.7751526  0.77477524 0.77439717\n",
            " 0.7709922  0.76910076 0.77156038 0.76929016 0.76721094 0.76966984\n",
            " 0.75170266 0.75132513 0.75038067 0.75170266 0.75132513 0.75038067\n",
            " 0.75056916 0.75245988 0.75302699        nan        nan        nan\n",
            "        nan        nan        nan        nan        nan        nan\n",
            "        nan        nan        nan        nan        nan        nan\n",
            "        nan        nan        nan        nan        nan        nan\n",
            "        nan        nan        nan        nan        nan        nan\n",
            " 0.89864044 0.89845105 0.89844998 0.89334404 0.89258718 0.89220929\n",
            " 0.87765012 0.87670369 0.88029591 0.8755684  0.87556948 0.8748128\n",
            " 0.86875971 0.87292029 0.87348901 0.85873777 0.85741452 0.86138517\n",
            " 0.83717855 0.84115045 0.84342085 0.83717855 0.84115045 0.84342085\n",
            " 0.83585477 0.8349112  0.83661359 0.8761373  0.87481298 0.87310915\n",
            " 0.84776993 0.85249547 0.85306401 0.82829208 0.83074829 0.8345308\n",
            " 0.78006968 0.7806375  0.78120461 0.777991   0.77647764 0.77931425\n",
            " 0.7776106  0.77817824 0.77609903 0.75226995 0.75170356 0.75189277\n",
            " 0.75226995 0.75170356 0.75189277 0.75378349 0.75302735 0.75340542]\n",
            "  warnings.warn(\n",
            "/Users/jaimereinoso/DESARROLLO/MCD/proyectodegrado2/venv/lib/python3.11/site-packages/sklearn/model_selection/_search.py:979: UserWarning: One or more of the test scores are non-finite: [       nan        nan        nan        nan        nan        nan\n",
            "        nan        nan        nan        nan        nan        nan\n",
            "        nan        nan        nan        nan        nan        nan\n",
            "        nan        nan        nan        nan        nan        nan\n",
            "        nan        nan        nan 0.84470548 0.84913886 0.85009212\n",
            " 0.83856514 0.83916997 0.83860539 0.80574678 0.80566684 0.80936609\n",
            " 0.8006713  0.80257063 0.8017875  0.79544817 0.79653073 0.7971852\n",
            " 0.7724531  0.77180589 0.77523636 0.73512419 0.74007343 0.7388568\n",
            " 0.73512419 0.74007343 0.7388568  0.72655508 0.72469514 0.7270043\n",
            " 0.8403058  0.83886392 0.83986171 0.80313521 0.80782712 0.80856545\n",
            " 0.76254446 0.76184097 0.76565892 0.61417764 0.61051928 0.6157821\n",
            " 0.61344657 0.60922271 0.61100726 0.61088522 0.61023167 0.60828305\n",
            " 0.55935751 0.55588137 0.55535919 0.55935751 0.55588137 0.55535919\n",
            " 0.56122926 0.55788328 0.55726998        nan        nan        nan\n",
            "        nan        nan        nan        nan        nan        nan\n",
            "        nan        nan        nan        nan        nan        nan\n",
            "        nan        nan        nan        nan        nan        nan\n",
            "        nan        nan        nan        nan        nan        nan\n",
            " 0.66900624 0.66565393 0.66781328 0.65761361 0.65491819 0.65299715\n",
            " 0.65591747 0.65105273 0.64629672 0.65317269 0.64852864 0.64747217\n",
            " 0.65192243 0.64896484 0.64548116 0.65426493 0.64691607 0.64234983\n",
            " 0.63909581 0.64205823 0.63700828 0.63909581 0.64205823 0.63700828\n",
            " 0.64026885 0.64160994 0.63474422 0.55756819 0.55670149 0.55922045\n",
            " 0.55666031 0.55326077 0.55491423 0.55387164 0.55052687 0.55208923\n",
            " 0.54574598 0.5461804  0.54639896 0.54722328 0.54509635 0.5462703\n",
            " 0.54488049 0.54583076 0.54696354 0.53931497 0.53613669 0.53740418\n",
            " 0.53931497 0.53613669 0.53740418 0.5350599  0.53440421 0.53671216\n",
            "        nan        nan        nan        nan        nan        nan\n",
            "        nan        nan        nan        nan        nan        nan\n",
            "        nan        nan        nan        nan        nan        nan\n",
            "        nan        nan        nan        nan        nan        nan\n",
            "        nan        nan        nan 0.82697872 0.82970506 0.83161343\n",
            " 0.80317788 0.80244076 0.80643488 0.77840254 0.77879727 0.77931554\n",
            " 0.77371881 0.77753704 0.77884692 0.77940544 0.77406361 0.77480165\n",
            " 0.74950953 0.7527644  0.75242444 0.7298744  0.72769483 0.73268552\n",
            " 0.7298744  0.72769483 0.73268552 0.72068408 0.7287813  0.72643068\n",
            " 0.675859   0.67736901 0.67480495 0.64957095 0.6501304  0.64630853\n",
            " 0.63904744 0.63435133 0.63426143 0.59965795 0.59743962 0.59827148\n",
            " 0.59396676 0.59092803 0.5934918  0.5901776  0.58810423 0.59110029\n",
            " 0.55892672 0.55453124 0.55258141 0.55892672 0.55453124 0.55258141\n",
            " 0.55401902 0.55618471 0.5561372         nan        nan        nan\n",
            "        nan        nan        nan        nan        nan        nan\n",
            "        nan        nan        nan        nan        nan        nan\n",
            "        nan        nan        nan        nan        nan        nan\n",
            "        nan        nan        nan        nan        nan        nan\n",
            " 0.84740304 0.84858091 0.84770182 0.83439029 0.83321149 0.83317636\n",
            " 0.80423528 0.80227334 0.80822577 0.80127435 0.79931697 0.79748854\n",
            " 0.79049986 0.7950934  0.79548906 0.77206563 0.76832854 0.77279826\n",
            " 0.73329968 0.73668385 0.73889797 0.73329968 0.73668385 0.73889797\n",
            " 0.72694348 0.72587031 0.7283493  0.79339369 0.79183255 0.78781999\n",
            " 0.74407061 0.75210031 0.7522762  0.70585414 0.7075352  0.71558213\n",
            " 0.61283477 0.61148315 0.61187639 0.60902017 0.60514474 0.60862031\n",
            " 0.60896931 0.60957627 0.60510114 0.55888042 0.55544667 0.55557775\n",
            " 0.55888042 0.55544667 0.55557775 0.55970929 0.5576635  0.55705142]\n",
            "  warnings.warn(\n"
          ]
        },
        {
          "name": "stdout",
          "output_type": "stream",
          "text": [
            "Mejores hiperparámetros encontrados:\n",
            "{'param_n_estimators': 200, 'param_max_depth': None, 'param_min_samples_split': 2, 'param_min_samples_leaf': 1, 'param_max_features': 'sqrt'}\n",
            "Precisión (Accuracy) en prueba: 0.9304610733182161\n",
            "ROC-AUC en prueba: 0.8967173855903741\n"
          ]
        }
      ],
      "source": [
        "import pandas as pd\n",
        "from sklearn.ensemble import RandomForestClassifier\n",
        "from sklearn.model_selection import GridSearchCV, train_test_split\n",
        "from sklearn.metrics import make_scorer, accuracy_score, roc_auc_score\n",
        "\n",
        "# Dividir los datos en conjuntos de entrenamiento (train) y prueba (test)\n",
        "X_train, X_test, y_train, y_test = train_test_split(X, y, test_size=0.2, random_state=42)\n",
        "\n",
        "# Definir los hiperparámetros a ajustar y sus posibles valores\n",
        "param_grid = {\n",
        "    'n_estimators': [50, 100, 200],\n",
        "    'max_depth': [None, 10, 20, 30],\n",
        "    'min_samples_split': [2, 5, 10],\n",
        "    'min_samples_leaf': [1, 2, 4],\n",
        "    'max_features': ['auto', 'sqrt', 'log2'],\n",
        "}\n",
        "\n",
        "# Crear el modelo de Random Forest\n",
        "modelo_rf = RandomForestClassifier(random_state=42)\n",
        "\n",
        "# Definir las métricas que deseas evaluar durante la búsqueda en cuadrícula\n",
        "scoring = {\n",
        "    'accuracy': make_scorer(accuracy_score),\n",
        "    'roc_auc': make_scorer(roc_auc_score)\n",
        "}\n",
        "\n",
        "# Realizar la búsqueda en cuadrícula con validación cruzada en el conjunto de entrenamiento\n",
        "grid_search = GridSearchCV(estimator=modelo_rf, param_grid=param_grid, cv=5, scoring=scoring, n_jobs=-1, refit='roc_auc')\n",
        "grid_search.fit(X_train, y_train)\n",
        "\n",
        "# Obtener el DataFrame de resultados de la búsqueda en cuadrícula\n",
        "resultados_df = pd.DataFrame(grid_search.cv_results_)\n",
        "\n",
        "# Encontrar la fila con el mejor resultado de ROC-AUC\n",
        "mejor_roc_auc_idx = resultados_df['mean_test_roc_auc'].idxmax()\n",
        "\n",
        "# Extraer los hiperparámetros correspondientes al mejor resultado\n",
        "mejores_hiperparametros = resultados_df.loc[mejor_roc_auc_idx, ['param_n_estimators', 'param_max_depth',\n",
        "                                                              'param_min_samples_split', 'param_min_samples_leaf',\n",
        "                                                              'param_max_features']]\n",
        "\n",
        "# Mostrar los mejores hiperparámetros\n",
        "print(\"Mejores hiperparámetros encontrados:\")\n",
        "print(mejores_hiperparametros.to_dict())\n",
        "\n",
        "# Obtener el modelo con los mejores hiperparámetros\n",
        "mejor_modelo_rf = grid_search.best_estimator_\n",
        "\n",
        "# Evaluar el modelo en el conjunto de prueba\n",
        "y_pred = mejor_modelo_rf.predict(X_test)\n",
        "accuracy_test = accuracy_score(y_test, y_pred)\n",
        "roc_auc_test = roc_auc_score(y_test, y_pred)\n",
        "\n",
        "# Mostrar los resultados en el conjunto de prueba\n",
        "print(\"Precisión (Accuracy) en prueba:\", accuracy_test)\n",
        "print(\"ROC-AUC en prueba:\", roc_auc_test)\n"
      ]
    },
    {
      "cell_type": "code",
      "execution_count": 9,
      "metadata": {},
      "outputs": [
        {
          "data": {
            "text/plain": [
              "param_n_estimators          200\n",
              "param_max_depth            None\n",
              "param_min_samples_split       2\n",
              "param_min_samples_leaf        1\n",
              "param_max_features         sqrt\n",
              "Name: 29, dtype: object"
            ]
          },
          "execution_count": 9,
          "metadata": {},
          "output_type": "execute_result"
        }
      ],
      "source": [
        "mejores_hiperparametros.head()"
      ]
    },
    {
      "cell_type": "code",
      "execution_count": 12,
      "metadata": {},
      "outputs": [],
      "source": [
        "resultados_df.to_excel('RF Resultados.xlsx')"
      ]
    },
    {
      "cell_type": "code",
      "execution_count": null,
      "metadata": {},
      "outputs": [],
      "source": []
    }
  ],
  "metadata": {
    "accelerator": "GPU",
    "colab": {
      "provenance": []
    },
    "kernelspec": {
      "display_name": "Python 3",
      "name": "python3"
    },
    "language_info": {
      "codemirror_mode": {
        "name": "ipython",
        "version": 3
      },
      "file_extension": ".py",
      "mimetype": "text/x-python",
      "name": "python",
      "nbconvert_exporter": "python",
      "pygments_lexer": "ipython3",
      "version": "3.11.5"
    }
  },
  "nbformat": 4,
  "nbformat_minor": 0
}
