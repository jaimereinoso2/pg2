{
  "cells": [
    {
      "cell_type": "markdown",
      "metadata": {
        "id": "kstgk2Ow9mme"
      },
      "source": [
        "\n",
        "\n",
        "### Generación de Modelos Predictivos\n",
        "\n",
        "Este notebook se encarga de generar modelos predictivos.  Se puede correr en Google Colab o en el iMac.\n",
        "\n",
        "Para usarlo en Google Colab, usar tipo_a_usar='GPU'\n",
        "Para usarlo en el imac, usar tipo_a_usar='CPU'\n",
        "\n"
      ]
    },
    {
      "cell_type": "code",
      "execution_count": 1,
      "metadata": {
        "id": "Z4cDU5C_93sB"
      },
      "outputs": [],
      "source": [
        "tipo_a_usar='CPU'"
      ]
    },
    {
      "cell_type": "code",
      "execution_count": 4,
      "metadata": {
        "id": "VvG4qBj15JbK"
      },
      "outputs": [
        {
          "ename": "ModuleNotFoundError",
          "evalue": "No module named 'xgboost'",
          "output_type": "error",
          "traceback": [
            "\u001b[0;31m---------------------------------------------------------------------------\u001b[0m",
            "\u001b[0;31mModuleNotFoundError\u001b[0m                       Traceback (most recent call last)",
            "\u001b[1;32m/Users/jaimereinoso/DESARROLLO/MCD/proyectodegrado2/04_generarModelos.ipynb Cell 3\u001b[0m line \u001b[0;36m8\n\u001b[1;32m      <a href='vscode-notebook-cell:/Users/jaimereinoso/DESARROLLO/MCD/proyectodegrado2/04_generarModelos.ipynb#W2sZmlsZQ%3D%3D?line=5'>6</a>\u001b[0m \u001b[39mfrom\u001b[39;00m \u001b[39msklearn\u001b[39;00m\u001b[39m.\u001b[39;00m\u001b[39mmetrics\u001b[39;00m \u001b[39mimport\u001b[39;00m accuracy_score,roc_auc_score, confusion_matrix\n\u001b[1;32m      <a href='vscode-notebook-cell:/Users/jaimereinoso/DESARROLLO/MCD/proyectodegrado2/04_generarModelos.ipynb#W2sZmlsZQ%3D%3D?line=6'>7</a>\u001b[0m \u001b[39mfrom\u001b[39;00m \u001b[39msklearn\u001b[39;00m\u001b[39m.\u001b[39;00m\u001b[39mensemble\u001b[39;00m \u001b[39mimport\u001b[39;00m GradientBoostingClassifier\n\u001b[0;32m----> <a href='vscode-notebook-cell:/Users/jaimereinoso/DESARROLLO/MCD/proyectodegrado2/04_generarModelos.ipynb#W2sZmlsZQ%3D%3D?line=7'>8</a>\u001b[0m \u001b[39mimport\u001b[39;00m \u001b[39mxgboost\u001b[39;00m \u001b[39mas\u001b[39;00m \u001b[39mxgb\u001b[39;00m\n",
            "\u001b[0;31mModuleNotFoundError\u001b[0m: No module named 'xgboost'"
          ]
        }
      ],
      "source": [
        "import pandas as pd\n",
        "from sklearn.model_selection import train_test_split, GridSearchCV\n",
        "from sklearn.ensemble import RandomForestClassifier\n",
        "from sklearn.svm import SVC\n",
        "from sklearn.ensemble import GradientBoostingClassifier\n",
        "from sklearn.metrics import accuracy_score,roc_auc_score, confusion_matrix\n",
        "from sklearn.ensemble import GradientBoostingClassifier\n",
        "import xgboost as xgb"
      ]
    },
    {
      "cell_type": "code",
      "execution_count": 65,
      "metadata": {
        "colab": {
          "base_uri": "https://localhost:8080/"
        },
        "id": "1-ZRjd8R5ycg",
        "outputId": "60a4e1d6-7261-4d0f-c60e-f00968f47a9a"
      },
      "outputs": [],
      "source": [
        "if tipo_a_usar =='GPU':\n",
        "  from google.colab import drive\n",
        "  drive.mount('/content/drive')"
      ]
    },
    {
      "cell_type": "markdown",
      "metadata": {
        "id": "VS7BpOnV-fR1"
      },
      "source": [
        "Los datos de origen es el mismo sea desde Google Colab o desde el iMac.  La diferencia es que el primero usar referencia a Google Drive y el otro acceso directo desde el sistema operativo"
      ]
    },
    {
      "cell_type": "code",
      "execution_count": 66,
      "metadata": {
        "id": "G9ljov6i5Vza"
      },
      "outputs": [],
      "source": [
        "if tipo_a_usar =='GPU':\n",
        "  DATOS = pd.read_pickle('/content/drive/MyDrive//Innovaciones Tecnológicas Aplicadas/Universidad Autónoma de Occidente/GoogleColab/DATOS3_35.pkl')\n",
        "\n",
        "if tipo_a_usar == 'CPU':\n",
        "  DATOS = pd.read_pickle('/Users/jaimereinoso/DESARROLLO/UAOPiloto2/checkPoints/DATOS3_35.pkl')\n",
        "\n",
        "# quitemos por ahora las columnas que no nos interesan\n",
        "DATOS.drop(['id_estudiante','periodo','anno_grado_colegio','anno_fecha_admitido',\n",
        "                    'colegio','ciudad_colegio','genero','periodo_fecha_fin','fecha_grado'], axis=1, inplace=True)"
      ]
    },
    {
      "cell_type": "code",
      "execution_count": 67,
      "metadata": {},
      "outputs": [
        {
          "data": {
            "text/plain": [
              "(1369, 2867)"
            ]
          },
          "execution_count": 67,
          "metadata": {},
          "output_type": "execute_result"
        }
      ],
      "source": [
        "DATOS.shape"
      ]
    },
    {
      "cell_type": "code",
      "execution_count": 51,
      "metadata": {
        "colab": {
          "base_uri": "https://localhost:8080/"
        },
        "id": "687MNHUX75Fo",
        "outputId": "6f586934-c431-45db-8a3b-5ef46914cc7b"
      },
      "outputs": [
        {
          "data": {
            "text/plain": [
              "LABEL\n",
              " 0    1065\n",
              "-1     170\n",
              " 1     134\n",
              "Name: count, dtype: int64"
            ]
          },
          "execution_count": 51,
          "metadata": {},
          "output_type": "execute_result"
        }
      ],
      "source": [
        "# LABEL viene con 3 valores. 0:  los que no desertaron.  1:  los que desertaron, -1: los que no sabemos.  Estos ultimos son para hacer predicciones\n",
        "\n",
        "DATOS['LABEL'].value_counts()"
      ]
    },
    {
      "cell_type": "code",
      "execution_count": 52,
      "metadata": {},
      "outputs": [
        {
          "data": {
            "text/plain": [
              "(1369, 2867)"
            ]
          },
          "execution_count": 52,
          "metadata": {},
          "output_type": "execute_result"
        }
      ],
      "source": [
        "DATOS.shape"
      ]
    },
    {
      "cell_type": "code",
      "execution_count": 53,
      "metadata": {},
      "outputs": [],
      "source": [
        "#!pip install imbalanced-learn\n",
        "from imblearn.over_sampling import SMOTE\n",
        "\n",
        "# solo tomamos en cuenta los 0 (no desertores) y 1 (desertores)\n",
        "data = DATOS[DATOS['LABEL']>=0].copy() \n",
        "\n",
        "X = data.drop('LABEL', axis=1)\n",
        "y = data['LABEL']"
      ]
    },
    {
      "cell_type": "code",
      "execution_count": 54,
      "metadata": {},
      "outputs": [
        {
          "data": {
            "text/plain": [
              "(1199, 2866)"
            ]
          },
          "execution_count": 54,
          "metadata": {},
          "output_type": "execute_result"
        }
      ],
      "source": [
        "X.shape"
      ]
    },
    {
      "cell_type": "code",
      "execution_count": 55,
      "metadata": {
        "id": "ZYdem-wV8n86"
      },
      "outputs": [],
      "source": [
        "\n",
        "\n",
        "smote = SMOTE(sampling_strategy='auto')\n",
        "\n",
        "# Aplica SMOTE para generar muestras sintéticas\n",
        "X_resampled, y_resampled = smote.fit_resample(X, y)\n",
        "\n"
      ]
    },
    {
      "cell_type": "code",
      "execution_count": 57,
      "metadata": {},
      "outputs": [
        {
          "data": {
            "text/plain": [
              "(2130, 2866)"
            ]
          },
          "execution_count": 57,
          "metadata": {},
          "output_type": "execute_result"
        }
      ],
      "source": [
        "X_resampled.shape"
      ]
    },
    {
      "cell_type": "code",
      "execution_count": 56,
      "metadata": {
        "colab": {
          "base_uri": "https://localhost:8080/"
        },
        "id": "TRNSCVJI9wBW",
        "outputId": "893405b4-af24-4836-e98e-7980d29df965"
      },
      "outputs": [
        {
          "data": {
            "text/plain": [
              "LABEL\n",
              "0    1065\n",
              "1    1065\n",
              "Name: count, dtype: int64"
            ]
          },
          "execution_count": 56,
          "metadata": {},
          "output_type": "execute_result"
        }
      ],
      "source": [
        "y_resampled.value_counts()"
      ]
    },
    {
      "cell_type": "code",
      "execution_count": 58,
      "metadata": {},
      "outputs": [
        {
          "data": {
            "text/plain": [
              "(1704, 2866)"
            ]
          },
          "execution_count": 58,
          "metadata": {},
          "output_type": "execute_result"
        }
      ],
      "source": [
        "# Dividir los datos en conjuntos de entrenamiento y prueba\n",
        "\n",
        "X_train, X_test, y_train, y_test = train_test_split(X_resampled, y_resampled, test_size=0.2)\n",
        "X_train.shape"
      ]
    },
    {
      "cell_type": "code",
      "execution_count": 59,
      "metadata": {
        "id": "noDR7EL56jgM"
      },
      "outputs": [],
      "source": [
        "\n",
        "# Definir una lista de algoritmos que deseas probar\n",
        "algorithms = [\n",
        "   ('RandomForest',\n",
        "    RandomForestClassifier(), {\n",
        "        'n_estimators': [50, 100, 200,400],\n",
        "        'max_depth': [None, 10, 20, 30],\n",
        "        'min_samples_split': [2, 5, 10]\n",
        "    },\n",
        "    'CPU'),\n",
        "    ('SVM', SVC(), {\n",
        "        'C': [0.1, 1, 10],\n",
        "        'kernel': ['linear', 'rbf', 'poly']\n",
        "    },\n",
        "    'CPU'),\n",
        "    ('XGBoost', xgb.XGBClassifier(), {\n",
        "        'n_estimators': [50, 100, 200],\n",
        "        'learning_rate': [0.01, 0.1, 0.2],\n",
        "        'max_depth': [3, 4, 5],\n",
        "        'tree_method':['hist']  # no aguantó gpu_hist en google_colab\n",
        "    },\n",
        "    'GPU')\n",
        "]"
      ]
    },
    {
      "cell_type": "code",
      "execution_count": 60,
      "metadata": {
        "colab": {
          "base_uri": "https://localhost:8080/"
        },
        "id": "SDii2zMeMB1_",
        "outputId": "51958cd1-9e40-4aa3-c5a9-e360291ef33c"
      },
      "outputs": [],
      "source": [
        "# solo usar si se está en Google Colab para confirmar la asignación de una\n",
        "# tarjeta gráfica\n",
        "\n",
        "if tipo_a_usar == 'GPU':\n",
        "  gpu_info = !nvidia-smi\n",
        "  gpu_info = '\\n'.join(gpu_info)\n",
        "  if gpu_info.find('failed') >= 0:\n",
        "    print('Not connected to a GPU')\n",
        "  else:\n",
        "    print(gpu_info)"
      ]
    },
    {
      "cell_type": "code",
      "execution_count": 61,
      "metadata": {},
      "outputs": [
        {
          "name": "stdout",
          "output_type": "stream",
          "text": [
            "(1704, 2866)\n",
            "(426, 2866)\n"
          ]
        }
      ],
      "source": [
        "print(X_train.shape)\n",
        "print(X_test.shape)"
      ]
    },
    {
      "cell_type": "code",
      "execution_count": 62,
      "metadata": {
        "colab": {
          "base_uri": "https://localhost:8080/"
        },
        "id": "l3ykmsM36nTO",
        "outputId": "27e5b13b-c4a7-46bd-e790-db4dec6ec1ad"
      },
      "outputs": [
        {
          "name": "stdout",
          "output_type": "stream",
          "text": [
            "algo: RandomForest model: RandomForestClassifier() param grid: {'n_estimators': [50, 100, 200, 400], 'max_depth': [None, 10, 20, 30], 'min_samples_split': [2, 5, 10]}\n",
            "Algoritmo: RandomForest\n",
            "Accuracy: 0.9413145539906104\n",
            "Roc_Auc: 0.9415257048092869\n",
            "Conf_Matrix: [[190  11]\n",
            " [ 14 211]]\n",
            "algo: SVM model: SVC() param grid: {'C': [0.1, 1, 10], 'kernel': ['linear', 'rbf', 'poly']}\n",
            "Algoritmo: SVM\n",
            "Accuracy: 0.9154929577464789\n",
            "Roc_Auc: 0.913101160862355\n",
            "Conf_Matrix: [[175  26]\n",
            " [ 10 215]]\n"
          ]
        }
      ],
      "source": [
        "import joblib\n",
        "\n",
        "lista_de_modelos = []\n",
        "\n",
        "\n",
        "for algo_name, model, param_grid, tipo in algorithms:\n",
        "\n",
        "  if tipo == tipo_a_usar:\n",
        "\n",
        "    modelo_a_salvar = []\n",
        "\n",
        "    print('algo:', algo_name, 'model:',model, 'param grid:', param_grid)\n",
        "    grid_search = GridSearchCV(model, param_grid, cv=5, scoring='roc_auc')\n",
        "    grid_search.fit(X_train, y_train)\n",
        "\n",
        "    # Evaluar el modelo\n",
        "    y_pred = grid_search.best_estimator_.predict(X_test)\n",
        "\n",
        "    # vamos a salvarlo en modelo_a_salvar\n",
        "    modelo_a_salvar.append(algo_name)\n",
        "\n",
        "    accuracy = accuracy_score(y_test, y_pred)\n",
        "    roc_auc = roc_auc_score(y_test, y_pred)\n",
        "    conf_matrix = confusion_matrix(y_test, y_pred)\n",
        "\n",
        "    modelo_a_salvar.append(accuracy)\n",
        "    modelo_a_salvar.append(roc_auc)\n",
        "    modelo_a_salvar.append(conf_matrix)\n",
        "    modelo_a_salvar.append(grid_search.best_estimator_)\n",
        "    modelo_a_salvar.append(grid_search.best_params_)\n",
        "\n",
        "    lista_de_modelos.append(modelo_a_salvar)\n",
        "\n",
        "    joblib.dump(lista_de_modelos, 'lista_de_modelos.pkl')\n",
        "\n",
        "    print(\"Algoritmo:\", algo_name)\n",
        "    print(\"Accuracy:\", accuracy)\n",
        "    print(\"Roc_Auc:\", roc_auc)\n",
        "    print(\"Conf_Matrix:\", conf_matrix)\n"
      ]
    },
    {
      "cell_type": "markdown",
      "metadata": {
        "id": "YUlokfRtGId7"
      },
      "source": [
        "Si se está en Google Colab, al aplicar files.download el archivo queda en la carpeta DOWNLOAD del iMac.\n",
        "\n"
      ]
    },
    {
      "cell_type": "code",
      "execution_count": 46,
      "metadata": {
        "colab": {
          "base_uri": "https://localhost:8080/",
          "height": 17
        },
        "id": "VjCMhPC0Et_c",
        "outputId": "c4122fea-cbc7-4f2e-f78d-d7226bab837e"
      },
      "outputs": [
        {
          "name": "stdout",
          "output_type": "stream",
          "text": [
            "entro aqui\n"
          ]
        }
      ],
      "source": [
        "import joblib\n",
        "\n",
        "\n",
        "if tipo_a_usar =='GPU':\n",
        "  from google.colab import files\n",
        "  joblib.dump(lista_de_modelos,'lista_de_modelosGPU.pkl')\n",
        "  files.download('lista_de_modelosGPU.pkl')\n",
        "  # queda en download del iMac\n",
        "\n",
        "else:\n",
        "  joblib.dump(lista_de_modelos,'modelos/lista_de_modelosCPU.pkl')\n",
        "  print('entro aqui')\n",
        "  # queda en el directorio de UAOPiloto2\n"
      ]
    },
    {
      "cell_type": "code",
      "execution_count": null,
      "metadata": {
        "id": "2XxsQb60E6IJ"
      },
      "outputs": [],
      "source": []
    },
    {
      "cell_type": "code",
      "execution_count": null,
      "metadata": {},
      "outputs": [],
      "source": []
    },
    {
      "cell_type": "code",
      "execution_count": null,
      "metadata": {},
      "outputs": [],
      "source": []
    }
  ],
  "metadata": {
    "accelerator": "GPU",
    "colab": {
      "provenance": []
    },
    "kernelspec": {
      "display_name": "Python 3",
      "name": "python3"
    },
    "language_info": {
      "codemirror_mode": {
        "name": "ipython",
        "version": 3
      },
      "file_extension": ".py",
      "mimetype": "text/x-python",
      "name": "python",
      "nbconvert_exporter": "python",
      "pygments_lexer": "ipython3",
      "version": "3.11.5"
    }
  },
  "nbformat": 4,
  "nbformat_minor": 0
}
