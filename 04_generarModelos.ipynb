{
  "cells": [
    {
      "cell_type": "markdown",
      "metadata": {
        "id": "kstgk2Ow9mme"
      },
      "source": [
        "\n",
        "\n",
        "### Generación de Modelos Predictivos\n",
        "\n",
        "Este notebook se encarga de generar modelos predictivos.  Se puede correr en Google Colab o en el iMac.\n",
        "\n",
        "Para usarlo en Google Colab, usar tipo_a_usar='GPU'\n",
        "Para usarlo en el imac, usar tipo_a_usar='CPU'\n",
        "\n"
      ]
    },
    {
      "cell_type": "code",
      "execution_count": 18,
      "metadata": {
        "id": "Z4cDU5C_93sB"
      },
      "outputs": [],
      "source": [
        "tipo_a_usar='CPU'"
      ]
    },
    {
      "cell_type": "code",
      "execution_count": 19,
      "metadata": {
        "id": "VvG4qBj15JbK"
      },
      "outputs": [],
      "source": [
        "import pandas as pd\n",
        "from sklearn.model_selection import train_test_split, GridSearchCV\n",
        "from sklearn.ensemble import RandomForestClassifier\n",
        "from sklearn.svm import SVC\n",
        "from sklearn.ensemble import GradientBoostingClassifier\n",
        "from sklearn.metrics import accuracy_score,roc_auc_score, confusion_matrix\n",
        "from sklearn.ensemble import GradientBoostingClassifier\n",
        "import xgboost as xgb"
      ]
    },
    {
      "cell_type": "code",
      "execution_count": 20,
      "metadata": {
        "colab": {
          "base_uri": "https://localhost:8080/"
        },
        "id": "1-ZRjd8R5ycg",
        "outputId": "60a4e1d6-7261-4d0f-c60e-f00968f47a9a"
      },
      "outputs": [],
      "source": [
        "if tipo_a_usar =='GPU':\n",
        "  from google.colab import drive\n",
        "  drive.mount('/content/drive')"
      ]
    },
    {
      "cell_type": "markdown",
      "metadata": {
        "id": "VS7BpOnV-fR1"
      },
      "source": [
        "Los datos de origen es el mismo sea desde Google Colab o desde el iMac.  La diferencia es que el primero usar referencia a Google Drive y el otro acceso directo desde el sistema operativo"
      ]
    },
    {
      "cell_type": "code",
      "execution_count": 25,
      "metadata": {
        "id": "G9ljov6i5Vza"
      },
      "outputs": [],
      "source": [
        "if tipo_a_usar =='GPU':\n",
        "  DATOS_LIMPIOS = pd.read_pickle('/content/drive/MyDrive//Innovaciones Tecnológicas Aplicadas/Universidad Autónoma de Occidente/GoogleColab/DATOS3_35.pkl')\n",
        "\n",
        "if tipo_a_usar == 'CPU':\n",
        "  DATOS_LIMPIOS = pd.read_pickle('/Users/jaimereinoso/DESARROLLO/MCD/proyectodegrado2/checkPoints/DATOS_LIMPIOS.pkl')\n"
      ]
    },
    {
      "cell_type": "code",
      "execution_count": 30,
      "metadata": {
        "colab": {
          "base_uri": "https://localhost:8080/"
        },
        "id": "687MNHUX75Fo",
        "outputId": "6f586934-c431-45db-8a3b-5ef46914cc7b"
      },
      "outputs": [
        {
          "data": {
            "text/plain": [
              "LABEL\n",
              " 0    4820\n",
              " 1    1791\n",
              "-1     534\n",
              "Name: count, dtype: int64"
            ]
          },
          "execution_count": 30,
          "metadata": {},
          "output_type": "execute_result"
        }
      ],
      "source": [
        "# LABEL viene con 3 valores. 0:  los que ganaron.  \n",
        "# 1:  los que perdieron o cancelaron, \n",
        "# -1: los que no sabemos pues aún están viendo las asignaturas \n",
        "#     o no se nos informó su resultado.  Estos ultimos son para hacer predicciones\n",
        "\n",
        "DATOS_LIMPIOS['LABEL'].value_counts()"
      ]
    },
    {
      "cell_type": "code",
      "execution_count": 39,
      "metadata": {},
      "outputs": [],
      "source": [
        "#!pip install imbalanced-learn\n",
        "from imblearn.over_sampling import SMOTE\n",
        "\n",
        "# solo tomamos en cuenta los 0 (no desertores) y 1 (desertores)\n",
        "data = DATOS_LIMPIOS[DATOS_LIMPIOS['LABEL']>=0].copy() \n",
        "\n",
        "X = data.drop('LABEL', axis=1)\n",
        "y = data['LABEL']\n",
        "\n",
        "# procedemos a hacer el balanceo\n",
        "smote = SMOTE(sampling_strategy='auto')\n",
        "\n",
        "# Aplica SMOTE para generar muestras sintéticas\n",
        "X_resampled, y_resampled = smote.fit_resample(X, y)"
      ]
    },
    {
      "cell_type": "code",
      "execution_count": 41,
      "metadata": {},
      "outputs": [
        {
          "name": "stdout",
          "output_type": "stream",
          "text": [
            "(9640, 1954)\n"
          ]
        },
        {
          "data": {
            "text/plain": [
              "LABEL\n",
              "0    4820\n",
              "1    4820\n",
              "Name: count, dtype: int64"
            ]
          },
          "execution_count": 41,
          "metadata": {},
          "output_type": "execute_result"
        }
      ],
      "source": [
        "print(X_resampled.shape)\n",
        "y_resampled.value_counts()"
      ]
    },
    {
      "cell_type": "code",
      "execution_count": 42,
      "metadata": {},
      "outputs": [
        {
          "data": {
            "text/plain": [
              "(7712, 1954)"
            ]
          },
          "execution_count": 42,
          "metadata": {},
          "output_type": "execute_result"
        }
      ],
      "source": [
        "# Dividir los datos en conjuntos de entrenamiento y prueba\n",
        "X_train, X_test, y_train, y_test = train_test_split(X_resampled, y_resampled, test_size=0.2)\n",
        "X_train.shape"
      ]
    },
    {
      "cell_type": "code",
      "execution_count": 44,
      "metadata": {
        "id": "noDR7EL56jgM"
      },
      "outputs": [],
      "source": [
        "\n",
        "# Definir una lista de algoritmos que deseas probar, y si deben usar CPU o GPU\n",
        "# si usan CPU se pueden correr en el iMac.  Si usan GPU se corren en GOOGLE COLAB \n",
        "\n",
        "algorithms = [\n",
        "   ('RandomForest',\n",
        "    RandomForestClassifier(), {\n",
        "        'n_estimators': [50, 100, 200,400],\n",
        "        'max_depth': [None, 10, 20, 30],\n",
        "        'min_samples_split': [2, 5, 10]\n",
        "    },\n",
        "    'CPU'),\n",
        "    ('SVM', SVC(), {\n",
        "        'C': [0.1, 1, 10],\n",
        "        'kernel': ['linear', 'rbf', 'poly']\n",
        "    },\n",
        "    'CPU'),\n",
        "    ('XGBoost', xgb.XGBClassifier(), {\n",
        "        'n_estimators': [50, 100, 200],\n",
        "        'learning_rate': [0.01, 0.1, 0.2],\n",
        "        'max_depth': [3, 4, 5],\n",
        "        'tree_method':['hist']  # no aguantó gpu_hist en google_colab\n",
        "    },\n",
        "    'GPU')\n",
        "]"
      ]
    },
    {
      "cell_type": "code",
      "execution_count": 45,
      "metadata": {
        "colab": {
          "base_uri": "https://localhost:8080/"
        },
        "id": "SDii2zMeMB1_",
        "outputId": "51958cd1-9e40-4aa3-c5a9-e360291ef33c"
      },
      "outputs": [],
      "source": [
        "# solo usar si se está en Google Colab para confirmar la asignación de una\n",
        "# tarjeta gráfica\n",
        "\n",
        "if tipo_a_usar == 'GPU':\n",
        "  gpu_info = !nvidia-smi\n",
        "  gpu_info = '\\n'.join(gpu_info)\n",
        "  if gpu_info.find('failed') >= 0:\n",
        "    print('Not connected to a GPU')\n",
        "  else:\n",
        "    print(gpu_info)"
      ]
    },
    {
      "cell_type": "code",
      "execution_count": 46,
      "metadata": {},
      "outputs": [
        {
          "name": "stdout",
          "output_type": "stream",
          "text": [
            "(7712, 1954)\n",
            "(1928, 1954)\n"
          ]
        }
      ],
      "source": [
        "print(X_train.shape)\n",
        "print(X_test.shape)"
      ]
    },
    {
      "cell_type": "code",
      "execution_count": 47,
      "metadata": {
        "colab": {
          "base_uri": "https://localhost:8080/"
        },
        "id": "l3ykmsM36nTO",
        "outputId": "27e5b13b-c4a7-46bd-e790-db4dec6ec1ad"
      },
      "outputs": [
        {
          "name": "stdout",
          "output_type": "stream",
          "text": [
            "algo: RandomForest model: RandomForestClassifier() param grid: {'n_estimators': [50, 100, 200, 400], 'max_depth': [None, 10, 20, 30], 'min_samples_split': [2, 5, 10]}\n",
            "Algoritmo: RandomForest\n",
            "Accuracy: 0.970954356846473\n",
            "Roc_Auc: 0.9711767416025456\n",
            "Conf_Matrix: [[942  40]\n",
            " [ 16 930]]\n",
            "algo: SVM model: SVC() param grid: {'C': [0.1, 1, 10], 'kernel': ['linear', 'rbf', 'poly']}\n"
          ]
        }
      ],
      "source": [
        "import joblib\n",
        "\n",
        "lista_de_modelos = []\n",
        "\n",
        "\n",
        "for algo_name, model, param_grid, tipo in algorithms:\n",
        "\n",
        "  if tipo == tipo_a_usar:\n",
        "\n",
        "    modelo_a_salvar = []\n",
        "\n",
        "    print('algo:', algo_name, 'model:',model, 'param grid:', param_grid)\n",
        "    grid_search = GridSearchCV(model, param_grid, cv=5, scoring='roc_auc')\n",
        "    grid_search.fit(X_train, y_train)\n",
        "\n",
        "    # Evaluar el modelo\n",
        "    y_pred = grid_search.best_estimator_.predict(X_test)\n",
        "\n",
        "    # vamos a salvarlo en modelo_a_salvar\n",
        "    modelo_a_salvar.append(algo_name)\n",
        "\n",
        "    accuracy = accuracy_score(y_test, y_pred)\n",
        "    roc_auc = roc_auc_score(y_test, y_pred)\n",
        "    conf_matrix = confusion_matrix(y_test, y_pred)\n",
        "\n",
        "    modelo_a_salvar.append(accuracy)\n",
        "    modelo_a_salvar.append(roc_auc)\n",
        "    modelo_a_salvar.append(conf_matrix)\n",
        "    modelo_a_salvar.append(grid_search.best_estimator_)\n",
        "    modelo_a_salvar.append(grid_search.best_params_)\n",
        "\n",
        "    lista_de_modelos.append(modelo_a_salvar)\n",
        "\n",
        "    joblib.dump(lista_de_modelos, 'lista_de_modelos.pkl')\n",
        "\n",
        "    print(\"Algoritmo:\", algo_name)\n",
        "    print(\"Accuracy:\", accuracy)\n",
        "    print(\"Roc_Auc:\", roc_auc)\n",
        "    print(\"Conf_Matrix:\", conf_matrix)\n"
      ]
    },
    {
      "cell_type": "markdown",
      "metadata": {
        "id": "YUlokfRtGId7"
      },
      "source": [
        "Si se está en Google Colab, al aplicar files.download el archivo queda en la carpeta DOWNLOAD del iMac.\n",
        "\n"
      ]
    },
    {
      "cell_type": "code",
      "execution_count": 46,
      "metadata": {
        "colab": {
          "base_uri": "https://localhost:8080/",
          "height": 17
        },
        "id": "VjCMhPC0Et_c",
        "outputId": "c4122fea-cbc7-4f2e-f78d-d7226bab837e"
      },
      "outputs": [
        {
          "name": "stdout",
          "output_type": "stream",
          "text": [
            "entro aqui\n"
          ]
        }
      ],
      "source": [
        "import jobl\n",
        "\n",
        "\n",
        "if tipo_a_usar =='GPU':\n",
        "  from google.colab import files\n",
        "  joblib.dump(lista_de_modelos,'lista_de_modelosGPU.pkl')\n",
        "  files.download('lista_de_modelosGPU.pkl')\n",
        "  # queda en download del iMac\n",
        "\n",
        "else:\n",
        "  joblib.dump(lista_de_modelos,'modelos/lista_de_modelosCPU.pkl')\n",
        "  print('entro aqui')\n",
        "  # queda en el directorio de UAOPiloto2\n"
      ]
    },
    {
      "cell_type": "code",
      "execution_count": null,
      "metadata": {
        "id": "2XxsQb60E6IJ"
      },
      "outputs": [],
      "source": []
    },
    {
      "cell_type": "code",
      "execution_count": null,
      "metadata": {},
      "outputs": [],
      "source": []
    },
    {
      "cell_type": "code",
      "execution_count": null,
      "metadata": {},
      "outputs": [],
      "source": []
    }
  ],
  "metadata": {
    "accelerator": "GPU",
    "colab": {
      "provenance": []
    },
    "kernelspec": {
      "display_name": "Python 3",
      "name": "python3"
    },
    "language_info": {
      "codemirror_mode": {
        "name": "ipython",
        "version": 3
      },
      "file_extension": ".py",
      "mimetype": "text/x-python",
      "name": "python",
      "nbconvert_exporter": "python",
      "pygments_lexer": "ipython3",
      "version": "3.11.5"
    }
  },
  "nbformat": 4,
  "nbformat_minor": 0
}
