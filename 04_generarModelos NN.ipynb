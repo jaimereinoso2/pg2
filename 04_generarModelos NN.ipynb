{
  "cells": [
    {
      "cell_type": "markdown",
      "metadata": {
        "id": "kstgk2Ow9mme"
      },
      "source": [
        "\n",
        "\n",
        "### Generación de Modelos Predictivos\n",
        "\n",
        "Este notebook se encarga de generar modelos predictivos.  Se puede correr en Google Colab o en el iMac.\n",
        "\n",
        "Para usarlo en Google Colab, usar tipo_a_usar='GPU'\n",
        "Para usarlo en el imac, usar tipo_a_usar='CPU'\n",
        "\n"
      ]
    },
    {
      "cell_type": "code",
      "execution_count": 1,
      "metadata": {
        "id": "Z4cDU5C_93sB"
      },
      "outputs": [],
      "source": [
        "tipo_a_usar='CPU'"
      ]
    },
    {
      "cell_type": "code",
      "execution_count": 2,
      "metadata": {
        "id": "VvG4qBj15JbK"
      },
      "outputs": [],
      "source": [
        "import pandas as pd\n"
      ]
    },
    {
      "cell_type": "code",
      "execution_count": 3,
      "metadata": {
        "colab": {
          "base_uri": "https://localhost:8080/"
        },
        "id": "1-ZRjd8R5ycg",
        "outputId": "60a4e1d6-7261-4d0f-c60e-f00968f47a9a"
      },
      "outputs": [],
      "source": [
        "if tipo_a_usar =='GPU':\n",
        "  from google.colab import drive\n",
        "  drive.mount('/content/drive')"
      ]
    },
    {
      "cell_type": "markdown",
      "metadata": {
        "id": "VS7BpOnV-fR1"
      },
      "source": [
        "Los datos de origen es el mismo sea desde Google Colab o desde el iMac.  La diferencia es que el primero usar referencia a Google Drive y el otro acceso directo desde el sistema operativo"
      ]
    },
    {
      "cell_type": "code",
      "execution_count": 4,
      "metadata": {
        "id": "G9ljov6i5Vza"
      },
      "outputs": [],
      "source": [
        "if tipo_a_usar =='GPU':\n",
        "  dfbase = pd.read_pickle('/content/drive/MyDrive//Innovaciones Tecnológicas Aplicadas/Universidad Autónoma de Occidente/GoogleColab/checkPoints/DATOS_LIMPIOS.pkl')\n",
        "\n",
        "if tipo_a_usar == 'CPU':\n",
        "  dfbase = pd.read_pickle('checkpoints/DATOS_LIMPIOS.pkl')\n"
      ]
    },
    {
      "cell_type": "code",
      "execution_count": 5,
      "metadata": {},
      "outputs": [],
      "source": [
        "df = dfbase.copy()\n",
        "df = df[df['LABEL']!=-1]\n",
        "\n",
        "X = df.drop('LABEL', axis=1)  # Reemplaza 'target_column' con el nombre de tu columna objetivo\n",
        "y = df['LABEL']  # Reemplaza 'target_column' con el nombre de tu columna objetivo"
      ]
    },
    {
      "cell_type": "code",
      "execution_count": 6,
      "metadata": {},
      "outputs": [
        {
          "name": "stderr",
          "output_type": "stream",
          "text": [
            "2023-12-16 23:15:33.134162: I tensorflow/core/platform/cpu_feature_guard.cc:182] This TensorFlow binary is optimized to use available CPU instructions in performance-critical operations.\n",
            "To enable the following instructions: AVX2 FMA, in other operations, rebuild TensorFlow with the appropriate compiler flags.\n"
          ]
        },
        {
          "name": "stdout",
          "output_type": "stream",
          "text": [
            "Epoch 1/10\n",
            "193/193 [==============================] - 8s 30ms/step - loss: 0.4575 - auc: 0.8654 - val_loss: 0.3145 - val_auc: 0.0000e+00\n",
            "Epoch 2/10\n",
            "193/193 [==============================] - 6s 29ms/step - loss: 0.2496 - auc: 0.9660 - val_loss: 0.1163 - val_auc: 0.0000e+00\n",
            "Epoch 3/10\n",
            "193/193 [==============================] - 6s 31ms/step - loss: 0.2147 - auc: 0.9846 - val_loss: 0.1428 - val_auc: 0.0000e+00\n",
            "Epoch 4/10\n",
            "193/193 [==============================] - 6s 32ms/step - loss: 0.1013 - auc: 0.9930 - val_loss: 0.0937 - val_auc: 0.0000e+00\n",
            "Epoch 5/10\n",
            "193/193 [==============================] - 6s 32ms/step - loss: 0.0921 - auc: 0.9960 - val_loss: 0.0248 - val_auc: 0.0000e+00\n",
            "Epoch 6/10\n",
            "193/193 [==============================] - 6s 33ms/step - loss: 0.0572 - auc: 0.9972 - val_loss: 0.0087 - val_auc: 0.0000e+00\n",
            "Epoch 7/10\n",
            "193/193 [==============================] - 7s 34ms/step - loss: 0.0444 - auc: 0.9981 - val_loss: 0.0566 - val_auc: 0.0000e+00\n",
            "Epoch 8/10\n",
            "193/193 [==============================] - 7s 34ms/step - loss: 0.0680 - auc: 0.9972 - val_loss: 0.0261 - val_auc: 0.0000e+00\n",
            "Epoch 9/10\n",
            "193/193 [==============================] - 7s 34ms/step - loss: 0.0526 - auc: 0.9980 - val_loss: 0.0167 - val_auc: 0.0000e+00\n",
            "Epoch 10/10\n",
            "193/193 [==============================] - 7s 34ms/step - loss: 0.0296 - auc: 0.9984 - val_loss: 0.0162 - val_auc: 0.0000e+00\n",
            "42/42 [==============================] - 1s 8ms/step\n",
            "Valor de ROC-AUC en prueba: 0.8979950936012383\n"
          ]
        }
      ],
      "source": [
        "import numpy as np\n",
        "import pandas as pd\n",
        "from sklearn.model_selection import train_test_split\n",
        "from sklearn.preprocessing import StandardScaler\n",
        "from sklearn.metrics import accuracy_score\n",
        "from sklearn.metrics import roc_auc_score\n",
        "import tensorflow as tf\n",
        "from tensorflow import keras\n",
        "from tensorflow.keras import layers\n",
        "\n",
        "# Cargar tus datos en X (características) y y (etiquetas)\n",
        "# Asumiendo que ya tienes tus datos cargados, siéntete libre de reemplazar esta parte\n",
        "\n",
        "# Dividir los datos en conjuntos de entrenamiento (train) y prueba (test)\n",
        "X_train, X_test, y_train, y_test = train_test_split(X, y, test_size=0.2, random_state=42)\n",
        "\n",
        "# BALANCAMOS X_train y y_train\n",
        "#!pip install imbalanced-learn\n",
        "from imblearn.over_sampling import SMOTE\n",
        "smote = SMOTE(sampling_strategy='auto')\n",
        "X_train, y_train = smote.fit_resample(X_train, y_train)\n",
        "\n",
        "# Normalizar los datos utilizando StandardScaler\n",
        "scaler = StandardScaler()\n",
        "X_train = scaler.fit_transform(X_train)\n",
        "X_test = scaler.transform(X_test)\n",
        "\n",
        "\n",
        "# Crear el modelo de red neuronal con la capa adicional\n",
        "modelo_nn = keras.Sequential([\n",
        "    layers.Input(shape=(1953,)),  # Capa de entrada con 1953 características\n",
        "    layers.Dense(1000, activation='relu'),  # Capa oculta con 128 neuronas y función de activación ReLU\n",
        "    layers.Dense(128, activation='relu'),  # Capa oculta adicional con neuronas calculadas anteriormente y función de activación ReLU\n",
        "    layers.Dense(64, activation='relu'),  # Otra capa oculta con 64 neuronas y función de activación ReLU\n",
        "    layers.Dense(1, activation='sigmoid')  # Capa de salida con 1 neurona y función de activación sigmoide para clasificación binaria\n",
        "])\n",
        "\n",
        "# Compilar el modelo\n",
        "modelo_nn.compile(optimizer='adam', loss='binary_crossentropy', metrics=[tf.keras.metrics.AUC()])\n",
        "\n",
        "# Entrenar el modelo\n",
        "modelo_nn.fit(X_train, y_train, epochs=10, batch_size=32, validation_split=0.2)\n",
        "\n",
        "y_pred_proba = modelo_nn.predict(X_test)\n",
        "\n",
        "y_pred = (y_pred_proba > 0.5).astype(int)  # Convertir las probabilidades en etiquetas binarias\n",
        "\n",
        "roc_auc = roc_auc_score(y_test, y_pred)\n",
        "\n",
        "print(\"Valor de ROC-AUC en prueba:\", roc_auc)\n"
      ]
    },
    {
      "cell_type": "code",
      "execution_count": null,
      "metadata": {},
      "outputs": [],
      "source": []
    }
  ],
  "metadata": {
    "accelerator": "GPU",
    "colab": {
      "provenance": []
    },
    "kernelspec": {
      "display_name": "Python 3",
      "name": "python3"
    },
    "language_info": {
      "codemirror_mode": {
        "name": "ipython",
        "version": 3
      },
      "file_extension": ".py",
      "mimetype": "text/x-python",
      "name": "python",
      "nbconvert_exporter": "python",
      "pygments_lexer": "ipython3",
      "version": "3.11.5"
    }
  },
  "nbformat": 4,
  "nbformat_minor": 0
}
