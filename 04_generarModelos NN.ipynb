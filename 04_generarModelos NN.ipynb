{
  "cells": [
    {
      "cell_type": "markdown",
      "metadata": {
        "id": "kstgk2Ow9mme"
      },
      "source": [
        "\n",
        "\n",
        "### Generación de Modelos Predictivos\n",
        "\n",
        "Este notebook se encarga de generar modelos predictivos.  Se puede correr en Google Colab o en el iMac.\n",
        "\n",
        "Para usarlo en Google Colab, usar tipo_a_usar='GPU'\n",
        "Para usarlo en el imac, usar tipo_a_usar='CPU'\n",
        "\n"
      ]
    },
    {
      "cell_type": "code",
      "execution_count": 3,
      "metadata": {
        "id": "Z4cDU5C_93sB"
      },
      "outputs": [],
      "source": [
        "tipo_a_usar='CPU'"
      ]
    },
    {
      "cell_type": "code",
      "execution_count": 4,
      "metadata": {
        "id": "VvG4qBj15JbK"
      },
      "outputs": [],
      "source": [
        "import pandas as pd\n"
      ]
    },
    {
      "cell_type": "code",
      "execution_count": 5,
      "metadata": {
        "colab": {
          "base_uri": "https://localhost:8080/"
        },
        "id": "1-ZRjd8R5ycg",
        "outputId": "60a4e1d6-7261-4d0f-c60e-f00968f47a9a"
      },
      "outputs": [],
      "source": [
        "if tipo_a_usar =='GPU':\n",
        "  from google.colab import drive\n",
        "  drive.mount('/content/drive')"
      ]
    },
    {
      "cell_type": "markdown",
      "metadata": {
        "id": "VS7BpOnV-fR1"
      },
      "source": [
        "Los datos de origen es el mismo sea desde Google Colab o desde el iMac.  La diferencia es que el primero usar referencia a Google Drive y el otro acceso directo desde el sistema operativo"
      ]
    },
    {
      "cell_type": "code",
      "execution_count": 6,
      "metadata": {
        "id": "G9ljov6i5Vza"
      },
      "outputs": [],
      "source": [
        "if tipo_a_usar =='GPU':\n",
        "  dfbase = pd.read_pickle('/content/drive/MyDrive//Innovaciones Tecnológicas Aplicadas/Universidad Autónoma de Occidente/GoogleColab/checkPoints/DATOS_LIMPIOS.pkl')\n",
        "\n",
        "if tipo_a_usar == 'CPU':\n",
        "  dfbase = pd.read_pickle('checkpoints/DATOS_LIMPIOS.pkl')\n"
      ]
    },
    {
      "cell_type": "code",
      "execution_count": 7,
      "metadata": {},
      "outputs": [],
      "source": [
        "df = dfbase.copy()\n",
        "df = df[df['LABEL']!=-1]\n",
        "\n",
        "X = df.drop('LABEL', axis=1)  # Reemplaza 'target_column' con el nombre de tu columna objetivo\n",
        "y = df['LABEL']  # Reemplaza 'target_column' con el nombre de tu columna objetivo"
      ]
    },
    {
      "cell_type": "code",
      "execution_count": 11,
      "metadata": {},
      "outputs": [
        {
          "name": "stdout",
          "output_type": "stream",
          "text": [
            "Epoch 1/10\n",
            "133/133 [==============================] - 4s 21ms/step - loss: 0.5238 - auc_2: 0.7707 - val_loss: 0.3955 - val_auc_2: 0.8666\n",
            "Epoch 2/10\n",
            "133/133 [==============================] - 3s 20ms/step - loss: 0.3235 - auc_2: 0.9334 - val_loss: 0.3682 - val_auc_2: 0.8990\n",
            "Epoch 3/10\n",
            "133/133 [==============================] - 3s 19ms/step - loss: 0.2357 - auc_2: 0.9700 - val_loss: 0.3896 - val_auc_2: 0.9108\n",
            "Epoch 4/10\n",
            "133/133 [==============================] - 3s 20ms/step - loss: 0.1488 - auc_2: 0.9847 - val_loss: 0.3912 - val_auc_2: 0.9180\n",
            "Epoch 5/10\n",
            "133/133 [==============================] - 3s 20ms/step - loss: 0.1169 - auc_2: 0.9882 - val_loss: 0.4456 - val_auc_2: 0.9171\n",
            "Epoch 6/10\n",
            "133/133 [==============================] - 3s 19ms/step - loss: 0.1059 - auc_2: 0.9938 - val_loss: 0.4380 - val_auc_2: 0.9185\n",
            "Epoch 7/10\n",
            "133/133 [==============================] - 3s 20ms/step - loss: 0.0814 - auc_2: 0.9959 - val_loss: 0.5427 - val_auc_2: 0.9124\n",
            "Epoch 8/10\n",
            "133/133 [==============================] - 3s 20ms/step - loss: 0.0495 - auc_2: 0.9968 - val_loss: 0.4918 - val_auc_2: 0.9227\n",
            "Epoch 9/10\n",
            "133/133 [==============================] - 3s 20ms/step - loss: 0.0433 - auc_2: 0.9968 - val_loss: 0.5217 - val_auc_2: 0.9253\n",
            "Epoch 10/10\n",
            "133/133 [==============================] - 3s 20ms/step - loss: 0.0293 - auc_2: 0.9983 - val_loss: 0.5246 - val_auc_2: 0.9134\n",
            "42/42 [==============================] - 0s 4ms/step\n",
            "Valor de ROC-AUC en prueba: 0.8679901287929676\n"
          ]
        }
      ],
      "source": [
        "import numpy as np\n",
        "import pandas as pd\n",
        "from sklearn.model_selection import train_test_split\n",
        "from sklearn.preprocessing import StandardScaler\n",
        "from sklearn.metrics import accuracy_score\n",
        "from sklearn.metrics import roc_auc_score\n",
        "import tensorflow as tf\n",
        "from tensorflow import keras\n",
        "from tensorflow.keras import layers\n",
        "\n",
        "# Cargar tus datos en X (características) y y (etiquetas)\n",
        "# Asumiendo que ya tienes tus datos cargados, siéntete libre de reemplazar esta parte\n",
        "\n",
        "# Dividir los datos en conjuntos de entrenamiento (train) y prueba (test)\n",
        "X_train, X_test, y_train, y_test = train_test_split(X, y, test_size=0.2, random_state=42)\n",
        "\n",
        "# Normalizar los datos utilizando StandardScaler\n",
        "scaler = StandardScaler()\n",
        "X_train = scaler.fit_transform(X_train)\n",
        "X_test = scaler.transform(X_test)\n",
        "\n",
        "\n",
        "# Crear el modelo de red neuronal con la capa adicional\n",
        "modelo_nn = keras.Sequential([\n",
        "    layers.Input(shape=(1953,)),  # Capa de entrada con 1953 características\n",
        "    layers.Dense(1000, activation='relu'),  # Capa oculta con 128 neuronas y función de activación ReLU\n",
        "    layers.Dense(128, activation='relu'),  # Capa oculta adicional con neuronas calculadas anteriormente y función de activación ReLU\n",
        "    layers.Dense(64, activation='relu'),  # Otra capa oculta con 64 neuronas y función de activación ReLU\n",
        "    layers.Dense(1, activation='sigmoid')  # Capa de salida con 1 neurona y función de activación sigmoide para clasificación binaria\n",
        "])\n",
        "\n",
        "# Compilar el modelo\n",
        "modelo_nn.compile(optimizer='adam', loss='binary_crossentropy', metrics=[tf.keras.metrics.AUC()])\n",
        "\n",
        "# Entrenar el modelo\n",
        "modelo_nn.fit(X_train, y_train, epochs=10, batch_size=32, validation_split=0.2)\n",
        "\n",
        "y_pred_proba = modelo_nn.predict(X_test)\n",
        "\n",
        "y_pred = (y_pred_proba > 0.5).astype(int)  # Convertir las probabilidades en etiquetas binarias\n",
        "\n",
        "roc_auc = roc_auc_score(y_test, y_pred)\n",
        "\n",
        "print(\"Valor de ROC-AUC en prueba:\", roc_auc)\n"
      ]
    },
    {
      "cell_type": "code",
      "execution_count": null,
      "metadata": {},
      "outputs": [],
      "source": []
    }
  ],
  "metadata": {
    "accelerator": "GPU",
    "colab": {
      "provenance": []
    },
    "kernelspec": {
      "display_name": "Python 3",
      "name": "python3"
    },
    "language_info": {
      "codemirror_mode": {
        "name": "ipython",
        "version": 3
      },
      "file_extension": ".py",
      "mimetype": "text/x-python",
      "name": "python",
      "nbconvert_exporter": "python",
      "pygments_lexer": "ipython3",
      "version": "3.11.5"
    }
  },
  "nbformat": 4,
  "nbformat_minor": 0
}
