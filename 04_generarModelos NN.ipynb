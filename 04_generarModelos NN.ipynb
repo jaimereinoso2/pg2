{
  "cells": [
    {
      "cell_type": "markdown",
      "metadata": {
        "id": "kstgk2Ow9mme"
      },
      "source": [
        "\n",
        "\n",
        "### Generación de Modelos Predictivos\n",
        "\n",
        "Este notebook se encarga de generar modelos predictivos.  Se puede correr en Google Colab o en el iMac.\n",
        "\n",
        "Para usarlo en Google Colab, usar tipo_a_usar='GPU'\n",
        "Para usarlo en el imac, usar tipo_a_usar='CPU'\n",
        "\n"
      ]
    },
    {
      "cell_type": "code",
      "execution_count": 1,
      "metadata": {
        "id": "Z4cDU5C_93sB"
      },
      "outputs": [],
      "source": [
        "tipo_a_usar='CPU'"
      ]
    },
    {
      "cell_type": "code",
      "execution_count": 2,
      "metadata": {
        "id": "VvG4qBj15JbK"
      },
      "outputs": [],
      "source": [
        "import pandas as pd\n"
      ]
    },
    {
      "cell_type": "code",
      "execution_count": 3,
      "metadata": {
        "colab": {
          "base_uri": "https://localhost:8080/"
        },
        "id": "1-ZRjd8R5ycg",
        "outputId": "60a4e1d6-7261-4d0f-c60e-f00968f47a9a"
      },
      "outputs": [],
      "source": [
        "if tipo_a_usar =='GPU':\n",
        "  from google.colab import drive\n",
        "  drive.mount('/content/drive')"
      ]
    },
    {
      "cell_type": "markdown",
      "metadata": {
        "id": "VS7BpOnV-fR1"
      },
      "source": [
        "Los datos de origen es el mismo sea desde Google Colab o desde el iMac.  La diferencia es que el primero usar referencia a Google Drive y el otro acceso directo desde el sistema operativo"
      ]
    },
    {
      "cell_type": "code",
      "execution_count": 4,
      "metadata": {
        "id": "G9ljov6i5Vza"
      },
      "outputs": [],
      "source": [
        "if tipo_a_usar =='GPU':\n",
        "  dfbase = pd.read_pickle('/content/drive/MyDrive//Innovaciones Tecnológicas Aplicadas/Universidad Autónoma de Occidente/GoogleColab/checkPoints/DATOS_LIMPIOS.pkl')\n",
        "\n",
        "if tipo_a_usar == 'CPU':\n",
        "  dfbase = pd.read_pickle('checkpoints/DATOS_LIMPIOS.pkl')\n"
      ]
    },
    {
      "cell_type": "code",
      "execution_count": 5,
      "metadata": {},
      "outputs": [],
      "source": [
        "df = dfbase.copy()\n",
        "df = df[df['LABEL']!=-1]\n",
        "\n",
        "X = df.drop('LABEL', axis=1)  # Reemplaza 'target_column' con el nombre de tu columna objetivo\n",
        "y = df['LABEL']  # Reemplaza 'target_column' con el nombre de tu columna objetivo"
      ]
    },
    {
      "cell_type": "code",
      "execution_count": 2,
      "metadata": {},
      "outputs": [
        {
          "name": "stderr",
          "output_type": "stream",
          "text": [
            "2023-12-16 22:57:52.965713: I tensorflow/core/platform/cpu_feature_guard.cc:182] This TensorFlow binary is optimized to use available CPU instructions in performance-critical operations.\n",
            "To enable the following instructions: AVX2 FMA, in other operations, rebuild TensorFlow with the appropriate compiler flags.\n"
          ]
        },
        {
          "ename": "NameError",
          "evalue": "name 'X' is not defined",
          "output_type": "error",
          "traceback": [
            "\u001b[0;31m---------------------------------------------------------------------------\u001b[0m",
            "\u001b[0;31mNameError\u001b[0m                                 Traceback (most recent call last)",
            "Cell \u001b[0;32mIn[2], line 14\u001b[0m\n\u001b[1;32m      8\u001b[0m \u001b[38;5;28;01mfrom\u001b[39;00m \u001b[38;5;21;01mtensorflow\u001b[39;00m\u001b[38;5;21;01m.\u001b[39;00m\u001b[38;5;21;01mkeras\u001b[39;00m \u001b[38;5;28;01mimport\u001b[39;00m layers\n\u001b[1;32m     10\u001b[0m \u001b[38;5;66;03m# Cargar tus datos en X (características) y y (etiquetas)\u001b[39;00m\n\u001b[1;32m     11\u001b[0m \u001b[38;5;66;03m# Asumiendo que ya tienes tus datos cargados, siéntete libre de reemplazar esta parte\u001b[39;00m\n\u001b[1;32m     12\u001b[0m \n\u001b[1;32m     13\u001b[0m \u001b[38;5;66;03m# Dividir los datos en conjuntos de entrenamiento (train) y prueba (test)\u001b[39;00m\n\u001b[0;32m---> 14\u001b[0m X_train, X_test, y_train, y_test \u001b[38;5;241m=\u001b[39m train_test_split(\u001b[43mX\u001b[49m, y, test_size\u001b[38;5;241m=\u001b[39m\u001b[38;5;241m0.2\u001b[39m, random_state\u001b[38;5;241m=\u001b[39m\u001b[38;5;241m42\u001b[39m)\n\u001b[1;32m     16\u001b[0m \u001b[38;5;66;03m# Normalizar los datos utilizando StandardScaler\u001b[39;00m\n\u001b[1;32m     17\u001b[0m scaler \u001b[38;5;241m=\u001b[39m StandardScaler()\n",
            "\u001b[0;31mNameError\u001b[0m: name 'X' is not defined"
          ]
        }
      ],
      "source": [
        "import numpy as np\n",
        "import pandas as pd\n",
        "from sklearn.model_selection import train_test_split\n",
        "from sklearn.preprocessing import StandardScaler\n",
        "from sklearn.metrics import accuracy_score\n",
        "import tensorflow as tf\n",
        "from tensorflow import keras\n",
        "from tensorflow.keras import layers\n",
        "\n",
        "# Cargar tus datos en X (características) y y (etiquetas)\n",
        "# Asumiendo que ya tienes tus datos cargados, siéntete libre de reemplazar esta parte\n",
        "\n",
        "# Dividir los datos en conjuntos de entrenamiento (train) y prueba (test)\n",
        "X_train, X_test, y_train, y_test = train_test_split(X, y, test_size=0.2, random_state=42)\n",
        "\n",
        "# Normalizar los datos utilizando StandardScaler\n",
        "scaler = StandardScaler()\n",
        "X_train = scaler.fit_transform(X_train)\n",
        "X_test = scaler.transform(X_test)\n",
        "\n",
        "\n",
        "# Crear el modelo de red neuronal con la capa adicional\n",
        "modelo_nn = keras.Sequential([\n",
        "    layers.Input(shape=(1953,)),  # Capa de entrada con 1953 características\n",
        "    layers.Dense(1000, activation='relu'),  # Capa oculta con 128 neuronas y función de activación ReLU\n",
        "    layers.Dense(128, activation='relu'),  # Capa oculta adicional con neuronas calculadas anteriormente y función de activación ReLU\n",
        "    layers.Dense(64, activation='relu'),  # Otra capa oculta con 64 neuronas y función de activación ReLU\n",
        "    layers.Dense(1, activation='sigmoid')  # Capa de salida con 1 neurona y función de activación sigmoide para clasificación binaria\n",
        "])\n",
        "\n",
        "# Compilar el modelo\n",
        "modelo_nn.compile(optimizer='adam', loss='binary_crossentropy', metrics=['accuracy'])\n",
        "\n",
        "# Entrenar el modelo\n",
        "modelo_nn.fit(X_train, y_train, epochs=10, batch_size=32, validation_split=0.2)\n",
        "\n",
        "# Evaluar el modelo en el conjunto de prueba\n",
        "y_pred_proba = modelo_nn.predict(X_test)\n",
        "y_pred = (y_pred_proba > 0.5).astype(int)  # Convertir las probabilidades en etiquetas binarias\n",
        "\n",
        "# Calcular la precisión en el conjunto de prueba\n",
        "accuracy_test = accuracy_score(y_test, y_pred)\n",
        "print(\"Precisión (Accuracy) en prueba:\", accuracy_test)\n"
      ]
    }
  ],
  "metadata": {
    "accelerator": "GPU",
    "colab": {
      "provenance": []
    },
    "kernelspec": {
      "display_name": "Python 3",
      "name": "python3"
    },
    "language_info": {
      "codemirror_mode": {
        "name": "ipython",
        "version": 3
      },
      "file_extension": ".py",
      "mimetype": "text/x-python",
      "name": "python",
      "nbconvert_exporter": "python",
      "pygments_lexer": "ipython3",
      "version": "3.11.5"
    }
  },
  "nbformat": 4,
  "nbformat_minor": 0
}
