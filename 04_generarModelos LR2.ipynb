{
  "cells": [
    {
      "cell_type": "markdown",
      "metadata": {
        "id": "kstgk2Ow9mme"
      },
      "source": [
        "\n",
        "\n",
        "### Generación de Modelos Predictivos con LOGISTIC REGRESSION\n",
        "\n",
        "Este tipo de modelos requiere una revisión previa de colienalidad.  Tambien permiten obtener información del peso de las variables en el modelo."
      ]
    },
    {
      "cell_type": "code",
      "execution_count": 1,
      "metadata": {},
      "outputs": [],
      "source": [
        "import pandas as pd\n",
        "from sklearn.model_selection import train_test_split, cross_val_score\n",
        "from sklearn.linear_model import LogisticRegression\n",
        "from sklearn.preprocessing import StandardScaler\n",
        "from sklearn.feature_selection import VarianceThreshold\n",
        "\n",
        "# Cargar tu DataFrame, reemplaza 'tu_dataframe.csv' con el nombre de tu archivo CSV\n",
        "dfbase = pd.read_pickle('checkpoints/DATOS_LIMPIOS.pkl')"
      ]
    },
    {
      "cell_type": "markdown",
      "metadata": {},
      "source": [
        "Cargamos el archivo ya preparado de DATOS_LIMPIOS y separamos las variables independientes en **X** y la dependiente en **y**"
      ]
    },
    {
      "cell_type": "code",
      "execution_count": 100,
      "metadata": {},
      "outputs": [],
      "source": [
        "df = dfbase.copy()"
      ]
    },
    {
      "cell_type": "code",
      "execution_count": 101,
      "metadata": {},
      "outputs": [],
      "source": [
        "df = df[df['LABEL']!=-1]"
      ]
    },
    {
      "cell_type": "code",
      "execution_count": 102,
      "metadata": {},
      "outputs": [],
      "source": [
        "X = df.drop('LABEL', axis=1)\n",
        "y = df['LABEL']"
      ]
    },
    {
      "cell_type": "markdown",
      "metadata": {},
      "source": [
        "Obtenemos la matriz de correlación de las variables independientes con la idea de eliminar aquellas variables muy correlacionadas entre si.  Dado que la matriz es simétrica, se deja solo la mitad inferior"
      ]
    },
    {
      "cell_type": "code",
      "execution_count": 103,
      "metadata": {},
      "outputs": [],
      "source": [
        "# calculamos correlación de variables independientes\n",
        "corr_matrix = X.corr()\n",
        "\n",
        "import numpy as np\n",
        "mitad_inferior = np.tril(corr_matrix, k=-1)\n",
        "mitad_inferior = pd.DataFrame(mitad_inferior, columns=corr_matrix.columns, index=corr_matrix.index)"
      ]
    },
    {
      "cell_type": "markdown",
      "metadata": {},
      "source": [
        "Se realiza un estudio por umbral, para determinar cuantas variables serían eliminadas y cuantas quedarían.   Entre más alto el umbral, las variables independientes están menos correlacionadas entre si"
      ]
    },
    {
      "cell_type": "code",
      "execution_count": 106,
      "metadata": {},
      "outputs": [
        {
          "name": "stdout",
          "output_type": "stream",
          "text": [
            "umbral: 0.9 1953 490 1463\n",
            "LABEL\n",
            "0    970\n",
            "1    353\n",
            "Name: count, dtype: int64\n",
            "Puntajes de validación cruzada: [0.80340265 0.83364839 0.80812854 0.83349101 0.83254494]\n",
            "Precisión media: 0.82\n",
            "roc-auc: 0.8864285505680325 accuracy: 0.8480725623582767\n",
            "umbral: 0.8 1953 584 1369\n",
            "LABEL\n",
            "0    970\n",
            "1    353\n",
            "Name: count, dtype: int64\n",
            "Puntajes de validación cruzada: [0.79773157 0.83648393 0.80718336 0.83538316 0.82403027]\n",
            "Precisión media: 0.82\n",
            "roc-auc: 0.8842878420606877 accuracy: 0.8420256991685563\n",
            "umbral: 0.7 1953 703 1250\n",
            "LABEL\n",
            "0    970\n",
            "1    353\n",
            "Name: count, dtype: int64\n",
            "Puntajes de validación cruzada: [0.79678639 0.83931947 0.80056711 0.83632923 0.81078524]\n",
            "Precisión media: 0.82\n",
            "roc-auc: 0.8770333810344324 accuracy: 0.8412698412698413\n",
            "umbral: 0.6 1953 799 1154\n",
            "LABEL\n",
            "0    970\n",
            "1    353\n",
            "Name: count, dtype: int64\n",
            "Puntajes de validación cruzada: [0.79678639 0.81663516 0.79111531 0.83159886 0.8051088 ]\n",
            "Precisión media: 0.81\n",
            "roc-auc: 0.8713034081948542 accuracy: 0.8269085411942555\n",
            "umbral: 0.5 1953 915 1038\n",
            "LABEL\n",
            "0    970\n",
            "1    353\n",
            "Name: count, dtype: int64\n",
            "Puntajes de validación cruzada: [0.77693762 0.8194707  0.78166352 0.82119205 0.79943236]\n",
            "Precisión media: 0.80\n",
            "roc-auc: 0.8640518676440524 accuracy: 0.8117913832199547\n",
            "umbral: 0.4 1953 1024 929\n",
            "LABEL\n",
            "0    970\n",
            "1    353\n",
            "Name: count, dtype: int64\n",
            "Puntajes de validación cruzada: [0.78449905 0.80718336 0.77693762 0.81740776 0.80037843]\n",
            "Precisión media: 0.80\n",
            "roc-auc: 0.8437107561110948 accuracy: 0.7981859410430839\n",
            "umbral: 0.3 1953 1145 808\n",
            "LABEL\n",
            "0    970\n",
            "1    353\n",
            "Name: count, dtype: int64\n",
            "Puntajes de validación cruzada: [0.76465028 0.79300567 0.76465028 0.8051088  0.76631977]\n",
            "Precisión media: 0.78\n",
            "roc-auc: 0.8268566922695015 accuracy: 0.7906273620559335\n",
            "umbral: 0.2 1953 1214 739\n",
            "LABEL\n",
            "0    970\n",
            "1    353\n",
            "Name: count, dtype: int64\n",
            "Puntajes de validación cruzada: [0.75141777 0.78355388 0.75803403 0.79564806 0.76348155]\n",
            "Precisión media: 0.77\n",
            "roc-auc: 0.80511375251891 accuracy: 0.7694633408919124\n",
            "umbral: 0.1 1953 1357 596\n",
            "LABEL\n",
            "0    970\n",
            "1    353\n",
            "Name: count, dtype: int64\n",
            "Puntajes de validación cruzada: [0.73724008 0.75897921 0.73440454 0.75496689 0.73509934]\n",
            "Precisión media: 0.74\n",
            "roc-auc: 0.7633217487807014 accuracy: 0.7558578987150416\n"
          ]
        }
      ],
      "source": [
        "from sklearn.metrics import roc_auc_score, roc_curve\n",
        "from sklearn.metrics import accuracy_score\n",
        "\n",
        "lista_umbral = [0.9, 0.8, 0.7, 0.6, 0.5, 0.4, 0.3, 0.2, 0.1]\n",
        "\n",
        "for umbral in lista_umbral:\n",
        "    j = 0\n",
        "    variables_eliminar = set()\n",
        "    for c in mitad_inferior.columns:\n",
        "        i = 0\n",
        "        for v in mitad_inferior[c]:\n",
        "            if v > umbral:\n",
        "                variables_eliminar.add(mitad_inferior.index[i])           \n",
        "            i = i + 1\n",
        "        j = j + 1\n",
        "    print('umbral:', \n",
        "          umbral, len(mitad_inferior.columns), \n",
        "          len(variables_eliminar),\n",
        "          len(mitad_inferior.columns) - len(variables_eliminar))\n",
        "    \n",
        "    Xnew = X.drop(list(variables_eliminar), axis=1)\n",
        "\n",
        "    # Separar los datos en conjuntos de entrenamiento y prueba\n",
        "    X_train, X_test, y_train, y_test = train_test_split(Xnew, y, test_size=0.2, random_state=42)\n",
        "\n",
        "    print(y_test.value_counts())\n",
        "\n",
        "    # Aplicar StandardScaler para estandarizar las características (opcional pero recomendado)\n",
        "    scaler = StandardScaler()\n",
        "    X_train = scaler.fit_transform(X_train)\n",
        "    X_test = scaler.transform(X_test)\n",
        "\n",
        "    # Entrenar el modelo de regresión logística\n",
        "    model = LogisticRegression(max_iter=3000)\n",
        "    cv_scores = cross_val_score(model, X_train, y_train, cv=5)  # Utiliza 5 divisiones para validación cruzada\n",
        "\n",
        "    # Imprimir los puntajes de validación cruzada\n",
        "    print(\"Puntajes de validación cruzada:\", cv_scores)\n",
        "    print(\"Precisión media: {:.2f}\".format(cv_scores.mean()))\n",
        "\n",
        "    model.fit(X_train, y_train)\n",
        "\n",
        "    y_pred_prob = model.predict_proba(X_test)[:, 1]\n",
        "    y_pred = model.predict(X_test)\n",
        "    roc_auc = roc_auc_score(y_test, y_pred_prob)\n",
        "    accuracy_test = accuracy_score(y_test, y_pred)\n",
        "\n",
        "    print('roc-auc:', roc_auc, 'accuracy:', accuracy_test)\n",
        "\n",
        "\n",
        "\n",
        "            \n"
      ]
    }
  ],
  "metadata": {
    "accelerator": "GPU",
    "colab": {
      "provenance": []
    },
    "kernelspec": {
      "display_name": "Python 3",
      "name": "python3"
    },
    "language_info": {
      "codemirror_mode": {
        "name": "ipython",
        "version": 3
      },
      "file_extension": ".py",
      "mimetype": "text/x-python",
      "name": "python",
      "nbconvert_exporter": "python",
      "pygments_lexer": "ipython3",
      "version": "3.11.5"
    }
  },
  "nbformat": 4,
  "nbformat_minor": 0
}
