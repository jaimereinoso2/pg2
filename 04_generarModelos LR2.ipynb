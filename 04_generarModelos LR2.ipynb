{
  "cells": [
    {
      "cell_type": "markdown",
      "metadata": {
        "id": "kstgk2Ow9mme"
      },
      "source": [
        "\n",
        "\n",
        "### Generación de Modelos Predictivos con LOGISTIC REGRESSION\n",
        "\n",
        "Este tipo de modelos requiere una revisión previa de colienalidad.  Tambien permiten obtener información del peso de las variables en el modelo."
      ]
    },
    {
      "cell_type": "code",
      "execution_count": 2,
      "metadata": {},
      "outputs": [],
      "source": [
        "import pandas as pd\n",
        "from sklearn.model_selection import train_test_split, cross_val_score\n",
        "from sklearn.linear_model import LogisticRegression\n",
        "from sklearn.preprocessing import StandardScaler\n",
        "from sklearn.feature_selection import VarianceThreshold\n",
        "\n",
        "# Cargar tu DataFrame, reemplaza 'tu_dataframe.csv' con el nombre de tu archivo CSV\n",
        "dfbase = pd.read_pickle('checkpoints/DATOS_LIMPIOS.pkl')"
      ]
    },
    {
      "cell_type": "markdown",
      "metadata": {},
      "source": [
        "Cargamos el archivo ya preparado de DATOS_LIMPIOS y separamos las variables independientes en **X** y la dependiente en **y**"
      ]
    },
    {
      "cell_type": "code",
      "execution_count": 3,
      "metadata": {},
      "outputs": [],
      "source": [
        "df = dfbase.copy()"
      ]
    },
    {
      "cell_type": "code",
      "execution_count": 4,
      "metadata": {},
      "outputs": [],
      "source": [
        "df = df[df['LABEL']!=-1]"
      ]
    },
    {
      "cell_type": "code",
      "execution_count": 5,
      "metadata": {},
      "outputs": [],
      "source": [
        "X = df.drop('LABEL', axis=1)\n",
        "y = df['LABEL']"
      ]
    },
    {
      "cell_type": "markdown",
      "metadata": {},
      "source": [
        "Obtenemos la matriz de correlación de las variables independientes con la idea de eliminar aquellas variables muy correlacionadas entre si.  Dado que la matriz es simétrica, se deja solo la mitad inferior"
      ]
    },
    {
      "cell_type": "code",
      "execution_count": 6,
      "metadata": {},
      "outputs": [],
      "source": [
        "# calculamos correlación de variables independientes\n",
        "corr_matrix = X.corr()\n",
        "\n",
        "import numpy as np\n",
        "mitad_inferior = np.tril(corr_matrix, k=-1)\n",
        "mitad_inferior = pd.DataFrame(mitad_inferior, columns=corr_matrix.columns, index=corr_matrix.index)"
      ]
    },
    {
      "cell_type": "markdown",
      "metadata": {},
      "source": [
        "Se realiza un estudio por umbral, para determinar cuantas variables serían eliminadas y cuantas quedarían.   Entre más alto el umbral, las variables independientes están menos correlacionadas entre si"
      ]
    },
    {
      "cell_type": "code",
      "execution_count": 7,
      "metadata": {},
      "outputs": [
        {
          "name": "stdout",
          "output_type": "stream",
          "text": [
            "umbral: 0.9 1953 490 1463\n",
            "LABEL\n",
            "0    970\n",
            "1    353\n",
            "Name: count, dtype: int64\n",
            "Puntajes de validación cruzada: [0.79090909 0.83181818 0.92597403 0.92597403 0.92792208]\n",
            "Precisión media: 0.88\n",
            "roc-auc: 0.8851347799421746 accuracy: 0.8458049886621315\n",
            "umbral: 0.8 1953 584 1369\n",
            "LABEL\n",
            "0    970\n",
            "1    353\n",
            "Name: count, dtype: int64\n",
            "Puntajes de validación cruzada: [0.79350649 0.83246753 0.92402597 0.92727273 0.91753247]\n",
            "Precisión media: 0.88\n",
            "roc-auc: 0.8860576501854502 accuracy: 0.8382464096749811\n",
            "umbral: 0.7 1953 703 1250\n",
            "LABEL\n",
            "0    970\n",
            "1    353\n",
            "Name: count, dtype: int64\n",
            "Puntajes de validación cruzada: [0.76623377 0.80974026 0.91168831 0.92792208 0.92337662]\n",
            "Precisión media: 0.87\n",
            "roc-auc: 0.8771677229052889 accuracy: 0.8321995464852607\n",
            "umbral: 0.6 1953 799 1154\n",
            "LABEL\n",
            "0    970\n",
            "1    353\n",
            "Name: count, dtype: int64\n",
            "Puntajes de validación cruzada: [0.75974026 0.81493506 0.91298701 0.91298701 0.90779221]\n",
            "Precisión media: 0.86\n",
            "roc-auc: 0.8728541806606115 accuracy: 0.81859410430839\n",
            "umbral: 0.5 1953 915 1038\n",
            "LABEL\n",
            "0    970\n",
            "1    353\n",
            "Name: count, dtype: int64\n",
            "Puntajes de validación cruzada: [0.76233766 0.80064935 0.89350649 0.8987013  0.8987013 ]\n",
            "Precisión media: 0.85\n",
            "roc-auc: 0.8654040477789784 accuracy: 0.817838246409675\n",
            "umbral: 0.4 1953 1024 929\n",
            "LABEL\n",
            "0    970\n",
            "1    353\n",
            "Name: count, dtype: int64\n",
            "Puntajes de validación cruzada: [0.75064935 0.80519481 0.89350649 0.89415584 0.89090909]\n",
            "Precisión media: 0.85\n",
            "roc-auc: 0.8410414415466837 accuracy: 0.7860922146636432\n",
            "umbral: 0.3 1953 1145 808\n",
            "LABEL\n",
            "0    970\n",
            "1    353\n",
            "Name: count, dtype: int64\n",
            "Puntajes de validación cruzada: [0.72272727 0.76558442 0.87337662 0.87987013 0.86298701]\n",
            "Precisión media: 0.82\n",
            "roc-auc: 0.8264449052305715 accuracy: 0.7717309145880574\n",
            "umbral: 0.2 1953 1214 739\n",
            "LABEL\n",
            "0    970\n",
            "1    353\n",
            "Name: count, dtype: int64\n",
            "Puntajes de validación cruzada: [0.71103896 0.76883117 0.85584416 0.86688312 0.84675325]\n",
            "Precisión media: 0.81\n",
            "roc-auc: 0.8018603428638182 accuracy: 0.7407407407407407\n",
            "umbral: 0.1 1953 1357 596\n",
            "LABEL\n",
            "0    970\n",
            "1    353\n",
            "Name: count, dtype: int64\n",
            "Puntajes de validación cruzada: [0.69025974 0.70649351 0.7487013  0.74285714 0.73571429]\n",
            "Precisión media: 0.72\n",
            "roc-auc: 0.7532548698928186 accuracy: 0.6938775510204082\n"
          ]
        }
      ],
      "source": [
        "from sklearn.metrics import roc_auc_score, roc_curve\n",
        "from sklearn.metrics import accuracy_score\n",
        "\n",
        "lista_umbral = [0.9, 0.8, 0.7, 0.6, 0.5, 0.4, 0.3, 0.2, 0.1]\n",
        "\n",
        "for umbral in lista_umbral:\n",
        "    j = 0\n",
        "    variables_eliminar = set()\n",
        "    for c in mitad_inferior.columns:\n",
        "        i = 0\n",
        "        for v in mitad_inferior[c]:\n",
        "            if v > umbral:\n",
        "                variables_eliminar.add(mitad_inferior.index[i])           \n",
        "            i = i + 1\n",
        "        j = j + 1\n",
        "    print('umbral:', \n",
        "          umbral, len(mitad_inferior.columns), \n",
        "          len(variables_eliminar),\n",
        "          len(mitad_inferior.columns) - len(variables_eliminar))\n",
        "    \n",
        "    Xnew = X.drop(list(variables_eliminar), axis=1)\n",
        "\n",
        "    # Separar los datos en conjuntos de entrenamiento y prueba\n",
        "    X_train, X_test, y_train, y_test = train_test_split(Xnew, y, test_size=0.2, random_state=42)\n",
        "\n",
        "    # BALANCAMOS X_train y y_train\n",
        "    #!pip install imbalanced-learn\n",
        "    from imblearn.over_sampling import SMOTE\n",
        "    smote = SMOTE(sampling_strategy='auto')\n",
        "    X_train, y_train = smote.fit_resample(X_train, y_train)\n",
        "\n",
        "\n",
        "    print(y_test.value_counts())\n",
        "\n",
        "    # Aplicar StandardScaler para estandarizar las características (opcional pero recomendado)\n",
        "    scaler = StandardScaler()\n",
        "    X_train = scaler.fit_transform(X_train)\n",
        "    X_test = scaler.transform(X_test)\n",
        "\n",
        "    # Entrenar el modelo de regresión logística\n",
        "    model = LogisticRegression(max_iter=3000)\n",
        "    cv_scores = cross_val_score(model, X_train, y_train, cv=5)  # Utiliza 5 divisiones para validación cruzada\n",
        "\n",
        "    # Imprimir los puntajes de validación cruzada\n",
        "    print(\"Puntajes de validación cruzada:\", cv_scores)\n",
        "    print(\"Precisión media: {:.2f}\".format(cv_scores.mean()))\n",
        "\n",
        "    model.fit(X_train, y_train)\n",
        "\n",
        "    y_pred_prob = model.predict_proba(X_test)[:, 1]\n",
        "    y_pred = model.predict(X_test)\n",
        "    roc_auc = roc_auc_score(y_test, y_pred_prob)\n",
        "    accuracy_test = accuracy_score(y_test, y_pred)\n",
        "\n",
        "    print('roc-auc:', roc_auc, 'accuracy:', accuracy_test)\n",
        "\n",
        "\n",
        "\n",
        "            \n"
      ]
    }
  ],
  "metadata": {
    "accelerator": "GPU",
    "colab": {
      "provenance": []
    },
    "kernelspec": {
      "display_name": "Python 3",
      "name": "python3"
    },
    "language_info": {
      "codemirror_mode": {
        "name": "ipython",
        "version": 3
      },
      "file_extension": ".py",
      "mimetype": "text/x-python",
      "name": "python",
      "nbconvert_exporter": "python",
      "pygments_lexer": "ipython3",
      "version": "3.11.5"
    }
  },
  "nbformat": 4,
  "nbformat_minor": 0
}
